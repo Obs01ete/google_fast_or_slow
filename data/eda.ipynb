{
 "cells": [
  {
   "cell_type": "code",
   "execution_count": 1,
   "metadata": {},
   "outputs": [
    {
     "name": "stderr",
     "output_type": "stream",
     "text": [
      "/opt/anaconda3/envs/kaggle_tpu/lib/python3.10/site-packages/tqdm/auto.py:21: TqdmWarning: IProgress not found. Please update jupyter and ipywidgets. See https://ipywidgets.readthedocs.io/en/stable/user_install.html\n",
      "  from .autonotebook import tqdm as notebook_tqdm\n"
     ]
    }
   ],
   "source": [
    "import numpy as np\n",
    "import seaborn as sns\n",
    "from copy import deepcopy\n",
    "import os\n",
    "from pathlib import Path\n",
    "from tqdm.auto import tqdm"
   ]
  },
  {
   "cell_type": "code",
   "execution_count": 6,
   "metadata": {},
   "outputs": [],
   "source": [
    "root = Path(\"/home/edu/code/google_fast_or_slow/data/npz_all/npz\")\n",
    "collection = \"layout/nlp\"\n",
    "ctype = \"random\""
   ]
  },
  {
   "cell_type": "code",
   "execution_count": 7,
   "metadata": {},
   "outputs": [],
   "source": [
    "def prune_graph(data):\n",
    "    print(\"Pruning graph...\")\n",
    "    new_data = deepcopy(dict(data))\n",
    "    print(\"Original graph has {} nodes and {} edges\".format(data[\"node_feat\"].shape[0], data[\"edge_index\"].shape[0]))\n",
    "    in_edge_index = data[\"edge_index\"][np.isin(data[\"edge_index\"], data[\"node_config_ids\"]).any(1)]\n",
    "\n",
    "    in_node_ids = np.unique(in_edge_index)\n",
    "    assert len(set(data[\"node_config_ids\"]) - set(in_node_ids)) == 0\n",
    "    lookup = np.ones(data[\"node_feat\"].shape[0]) * -1\n",
    "    lookup[in_node_ids] = np.arange(in_node_ids.shape[0])\n",
    "\n",
    "    in_node_feats = data[\"node_feat\"][in_node_ids, :]\n",
    "    in_node_opcode = data[\"node_opcode\"][in_node_ids]\n",
    "    in_edge_index = lookup[in_edge_index]\n",
    "    in_node_config_ids = lookup[data[\"node_config_ids\"]]\n",
    "\n",
    "    new_data[\"node_feat\"] = in_node_feats\n",
    "    new_data[\"node_opcode\"] = in_node_opcode\n",
    "    new_data[\"edge_index\"] = in_edge_index\n",
    "    new_data[\"node_config_ids\"] = in_node_config_ids\n",
    "    print(\"New graph has {} nodes and {} edges\".format(new_data[\"node_feat\"].shape[0], new_data[\"edge_index\"].shape[0]))\n",
    "    return new_data\n"
   ]
  },
  {
   "cell_type": "code",
   "execution_count": 8,
   "metadata": {},
   "outputs": [],
   "source": [
    "def remove_dupplicated_node_configs(data):\n",
    "    reshaped_config_feat = data[\"node_config_feat\"].reshape(data[\"node_config_feat\"].shape[0], -1) + 2 # avoid zeros\n",
    "    positional_array = np.random.random(reshaped_config_feat.shape[1])  # multiply each value by its position to avoid removing permutations by accident\n",
    "    reshaped_values = (reshaped_config_feat * positional_array[None, :]).sum(1)\n",
    "    is_equal_matrix = reshaped_values[None, :] == reshaped_values[:, None] # quadratic matrix of all pairwise equalities\n",
    "    # is_equal_matrix[np.triu_indices(is_equal_matrix.shape[0], 0)] = 0 # only get diagonal to avoid remove twice\n",
    "    is_equal_matrix = np.tril(is_equal_matrix, -1) # only get diagonal to avoid remove twice\n",
    "    to_remove_ids = np.unique(np.where(is_equal_matrix)[0])\n",
    "    print(\"Removing {} duplicated node configs out of {}\".format(to_remove_ids.shape[0], data[\"node_config_feat\"].shape[0]))\n",
    "    data[\"config_runtime\"] = np.delete(data[\"config_runtime\"], to_remove_ids)\n",
    "    data[\"node_config_feat\"] = np.delete(data[\"node_config_feat\"], to_remove_ids, axis=0)\n",
    "    return data"
   ]
  },
  {
   "cell_type": "code",
   "execution_count": 9,
   "metadata": {},
   "outputs": [
    {
     "name": "stdout",
     "output_type": "stream",
     "text": [
      "Loading train data...\n"
     ]
    },
    {
     "name": "stderr",
     "output_type": "stream",
     "text": [
      "  0%|          | 0/207 [00:00<?, ?it/s]"
     ]
    },
    {
     "name": "stdout",
     "output_type": "stream",
     "text": [
      "/home/edu/code/google_fast_or_slow/data/npz_all/npz/layout/nlp/random/train/albert_en_xxlarge_batch_size_16_train.npz\n",
      "Pruning graph...\n",
      "Original graph has 5400 nodes and 9113 edges\n",
      "New graph has 995 nodes and 1011 edges\n",
      "Removing 39 duplicated node configs out of 24816\n"
     ]
    },
    {
     "name": "stderr",
     "output_type": "stream",
     "text": [
      "  0%|          | 1/207 [00:02<07:42,  2.25s/it]"
     ]
    },
    {
     "name": "stdout",
     "output_type": "stream",
     "text": [
      "/home/edu/code/google_fast_or_slow/data/npz_all/npz/layout/nlp/random/train/electra_base_batch_size_64_train.npz\n",
      "Pruning graph...\n",
      "Original graph has 10124 nodes and 16696 edges\n",
      "New graph has 1134 nodes and 1077 edges\n",
      "Removing 39 duplicated node configs out of 25016\n"
     ]
    },
    {
     "name": "stderr",
     "output_type": "stream",
     "text": [
      "  1%|          | 2/207 [00:04<07:30,  2.20s/it]"
     ]
    },
    {
     "name": "stdout",
     "output_type": "stream",
     "text": [
      "/home/edu/code/google_fast_or_slow/data/npz_all/npz/layout/nlp/random/train/small_bert_bert_en_uncased_L-2_H-512_A-8_batch_size_32_test.npz\n",
      "Pruning graph...\n",
      "Original graph has 876 nodes and 1366 edges\n",
      "New graph has 129 nodes and 104 edges\n",
      "Removing 45 duplicated node configs out of 100040\n"
     ]
    },
    {
     "name": "stderr",
     "output_type": "stream",
     "text": [
      "  1%|▏         | 3/207 [00:29<43:01, 12.66s/it]"
     ]
    },
    {
     "name": "stdout",
     "output_type": "stream",
     "text": [
      "/home/edu/code/google_fast_or_slow/data/npz_all/npz/layout/nlp/random/train/small_bert_bert_en_uncased_L-4_H-128_A-2_batch_size_32_test.npz\n",
      "Pruning graph...\n",
      "Original graph has 1096 nodes and 1688 edges\n",
      "New graph has 183 nodes and 152 edges\n",
      "Removing 42 duplicated node configs out of 100040\n"
     ]
    },
    {
     "name": "stderr",
     "output_type": "stream",
     "text": [
      "  2%|▏         | 4/207 [00:49<51:58, 15.36s/it]"
     ]
    },
    {
     "name": "stdout",
     "output_type": "stream",
     "text": [
      "/home/edu/code/google_fast_or_slow/data/npz_all/npz/layout/nlp/random/train/small_bert_bert_en_uncased_L-4_H-256_A-4_batch_size_16_test.npz\n",
      "Pruning graph...\n",
      "Original graph has 1096 nodes and 1688 edges\n",
      "New graph has 183 nodes and 152 edges\n",
      "Removing 44 duplicated node configs out of 100040\n"
     ]
    },
    {
     "name": "stderr",
     "output_type": "stream",
     "text": [
      "  2%|▏         | 5/207 [01:07<55:51, 16.59s/it]"
     ]
    },
    {
     "name": "stdout",
     "output_type": "stream",
     "text": [
      "/home/edu/code/google_fast_or_slow/data/npz_all/npz/layout/nlp/random/train/albert_en_base_batch_size_64_train.npz\n",
      "Pruning graph...\n",
      "Original graph has 5400 nodes and 9113 edges\n",
      "New graph has 995 nodes and 1011 edges\n",
      "Removing 39 duplicated node configs out of 32392\n"
     ]
    },
    {
     "name": "stderr",
     "output_type": "stream",
     "text": [
      "  3%|▎         | 6/207 [01:11<40:23, 12.06s/it]"
     ]
    },
    {
     "name": "stdout",
     "output_type": "stream",
     "text": [
      "/home/edu/code/google_fast_or_slow/data/npz_all/npz/layout/nlp/random/train/small_bert_bert_en_uncased_L-2_H-512_A-8_batch_size_64_train.npz\n",
      "Pruning graph...\n",
      "Original graph has 3037 nodes and 4959 edges\n",
      "New graph has 344 nodes and 307 edges\n",
      "Removing 39 duplicated node configs out of 73760\n"
     ]
    },
    {
     "name": "stderr",
     "output_type": "stream",
     "text": [
      "  3%|▎         | 7/207 [01:21<38:49, 11.65s/it]"
     ]
    },
    {
     "name": "stdout",
     "output_type": "stream",
     "text": [
      "/home/edu/code/google_fast_or_slow/data/npz_all/npz/layout/nlp/random/train/albert_en_large_batch_size_64_test.npz\n",
      "Pruning graph...\n",
      "Original graph has 2704 nodes and 4317 edges\n",
      "New graph has 588 nodes and 635 edges\n",
      "Removing 41 duplicated node configs out of 62240\n"
     ]
    },
    {
     "name": "stderr",
     "output_type": "stream",
     "text": [
      "  4%|▍         | 8/207 [01:30<35:25, 10.68s/it]"
     ]
    },
    {
     "name": "stdout",
     "output_type": "stream",
     "text": [
      "/home/edu/code/google_fast_or_slow/data/npz_all/npz/layout/nlp/random/train/experts_wiki_books_batch_size_32_test.npz\n",
      "Pruning graph...\n",
      "Original graph has 1976 nodes and 2976 edges\n",
      "New graph has 399 nodes and 344 edges\n",
      "Removing 43 duplicated node configs out of 100040\n"
     ]
    },
    {
     "name": "stderr",
     "output_type": "stream",
     "text": [
      "  4%|▍         | 9/207 [01:50<44:38, 13.53s/it]"
     ]
    },
    {
     "name": "stdout",
     "output_type": "stream",
     "text": [
      "/home/edu/code/google_fast_or_slow/data/npz_all/npz/layout/nlp/random/train/electra_base_batch_size_16_train.npz\n",
      "Pruning graph...\n",
      "Original graph has 10124 nodes and 16696 edges\n",
      "New graph has 1134 nodes and 1077 edges\n",
      "Removing 39 duplicated node configs out of 27616\n"
     ]
    },
    {
     "name": "stderr",
     "output_type": "stream",
     "text": [
      "  5%|▍         | 10/207 [01:52<33:15, 10.13s/it]"
     ]
    },
    {
     "name": "stdout",
     "output_type": "stream",
     "text": [
      "/home/edu/code/google_fast_or_slow/data/npz_all/npz/layout/nlp/random/train/small_bert_bert_en_uncased_L-12_H-768_A-12_batch_size_16_test.npz\n",
      "Pruning graph...\n",
      "Original graph has 1976 nodes and 2976 edges\n",
      "New graph has 399 nodes and 344 edges\n",
      "Removing 44 duplicated node configs out of 100040\n"
     ]
    },
    {
     "name": "stderr",
     "output_type": "stream",
     "text": [
      "  5%|▌         | 11/207 [02:12<42:34, 13.03s/it]"
     ]
    },
    {
     "name": "stdout",
     "output_type": "stream",
     "text": [
      "/home/edu/code/google_fast_or_slow/data/npz_all/npz/layout/nlp/random/train/small_bert_bert_en_uncased_L-10_H-128_A-2_batch_size_64_test.npz\n",
      "Pruning graph...\n",
      "Original graph has 1756 nodes and 2654 edges\n",
      "New graph has 345 nodes and 296 edges\n",
      "Removing 44 duplicated node configs out of 100040\n"
     ]
    },
    {
     "name": "stderr",
     "output_type": "stream",
     "text": [
      "  6%|▌         | 12/207 [02:31<48:49, 15.02s/it]"
     ]
    },
    {
     "name": "stdout",
     "output_type": "stream",
     "text": [
      "/home/edu/code/google_fast_or_slow/data/npz_all/npz/layout/nlp/random/train/experts_pubmed_batch_size_32_train.npz\n",
      "Pruning graph...\n",
      "Original graph has 10124 nodes and 16696 edges\n",
      "New graph has 1134 nodes and 1077 edges\n",
      "Removing 39 duplicated node configs out of 26304\n"
     ]
    },
    {
     "name": "stderr",
     "output_type": "stream",
     "text": [
      "  6%|▋         | 13/207 [02:34<36:08, 11.18s/it]"
     ]
    },
    {
     "name": "stdout",
     "output_type": "stream",
     "text": [
      "/home/edu/code/google_fast_or_slow/data/npz_all/npz/layout/nlp/random/train/electra_base_batch_size_32_test.npz\n",
      "Pruning graph...\n",
      "Original graph has 1976 nodes and 2976 edges\n",
      "New graph has 399 nodes and 344 edges\n",
      "Removing 42 duplicated node configs out of 100040\n"
     ]
    },
    {
     "name": "stderr",
     "output_type": "stream",
     "text": [
      "  7%|▋         | 14/207 [02:54<44:35, 13.86s/it]"
     ]
    },
    {
     "name": "stdout",
     "output_type": "stream",
     "text": [
      "/home/edu/code/google_fast_or_slow/data/npz_all/npz/layout/nlp/random/train/small_bert_bert_en_uncased_L-10_H-768_A-12_batch_size_64_test.npz\n",
      "Pruning graph...\n",
      "Original graph has 1756 nodes and 2654 edges\n",
      "New graph has 345 nodes and 296 edges\n",
      "Removing 43 duplicated node configs out of 100040\n"
     ]
    },
    {
     "name": "stderr",
     "output_type": "stream",
     "text": [
      "  7%|▋         | 15/207 [03:14<50:01, 15.63s/it]"
     ]
    },
    {
     "name": "stdout",
     "output_type": "stream",
     "text": [
      "/home/edu/code/google_fast_or_slow/data/npz_all/npz/layout/nlp/random/train/small_bert_bert_en_uncased_L-10_H-256_A-4_batch_size_16_train.npz\n",
      "Pruning graph...\n",
      "Original graph has 8707 nodes and 14349 edges\n",
      "New graph has 976 nodes and 923 edges\n",
      "Removing 39 duplicated node configs out of 48856\n"
     ]
    },
    {
     "name": "stderr",
     "output_type": "stream",
     "text": [
      "  8%|▊         | 16/207 [03:20<40:35, 12.75s/it]"
     ]
    },
    {
     "name": "stdout",
     "output_type": "stream",
     "text": [
      "/home/edu/code/google_fast_or_slow/data/npz_all/npz/layout/nlp/random/train/bert_en_wwm_cased_L-24_H-1024_A-16_batch_size_32_test.npz\n",
      "Pruning graph...\n",
      "Original graph has 3296 nodes and 4908 edges\n",
      "New graph has 723 nodes and 632 edges\n",
      "Removing 41 duplicated node configs out of 70512\n"
     ]
    },
    {
     "name": "stderr",
     "output_type": "stream",
     "text": [
      "  8%|▊         | 17/207 [03:31<38:36, 12.19s/it]"
     ]
    },
    {
     "name": "stdout",
     "output_type": "stream",
     "text": [
      "/home/edu/code/google_fast_or_slow/data/npz_all/npz/layout/nlp/random/train/bert_en_uncased_L-12_H-768_A-12_batch_size_64_test.npz\n",
      "Pruning graph...\n",
      "Original graph has 1976 nodes and 2976 edges\n",
      "New graph has 399 nodes and 344 edges\n",
      "Removing 43 duplicated node configs out of 100040\n"
     ]
    },
    {
     "name": "stderr",
     "output_type": "stream",
     "text": [
      "  9%|▊         | 18/207 [03:52<47:12, 14.99s/it]"
     ]
    },
    {
     "name": "stdout",
     "output_type": "stream",
     "text": [
      "/home/edu/code/google_fast_or_slow/data/npz_all/npz/layout/nlp/random/train/electra_small_batch_size_16_test.npz\n",
      "Pruning graph...\n",
      "Original graph has 1982 nodes and 2983 edges\n",
      "New graph has 402 nodes and 347 edges\n",
      "Removing 45 duplicated node configs out of 100040\n"
     ]
    },
    {
     "name": "stderr",
     "output_type": "stream",
     "text": [
      "  9%|▉         | 19/207 [04:13<52:11, 16.65s/it]"
     ]
    },
    {
     "name": "stdout",
     "output_type": "stream",
     "text": [
      "/home/edu/code/google_fast_or_slow/data/npz_all/npz/layout/nlp/random/train/small_bert_bert_en_uncased_L-12_H-256_A-4_batch_size_32_train.npz\n",
      "Pruning graph...\n",
      "Original graph has 10124 nodes and 16696 edges\n",
      "New graph has 1134 nodes and 1077 edges\n",
      "Removing 39 duplicated node configs out of 37976\n"
     ]
    },
    {
     "name": "stderr",
     "output_type": "stream",
     "text": [
      " 10%|▉         | 20/207 [04:17<40:15, 12.91s/it]"
     ]
    },
    {
     "name": "stdout",
     "output_type": "stream",
     "text": [
      "/home/edu/code/google_fast_or_slow/data/npz_all/npz/layout/nlp/random/train/small_bert_bert_en_uncased_L-8_H-768_A-12_batch_size_64_test.npz\n",
      "Pruning graph...\n",
      "Original graph has 1536 nodes and 2332 edges\n",
      "New graph has 291 nodes and 248 edges\n",
      "Removing 47 duplicated node configs out of 100040\n"
     ]
    },
    {
     "name": "stderr",
     "output_type": "stream",
     "text": [
      " 10%|█         | 21/207 [04:36<46:20, 14.95s/it]"
     ]
    },
    {
     "name": "stdout",
     "output_type": "stream",
     "text": [
      "/home/edu/code/google_fast_or_slow/data/npz_all/npz/layout/nlp/random/train/small_bert_bert_en_uncased_L-8_H-512_A-8_batch_size_16_train.npz\n",
      "Pruning graph...\n",
      "Original graph has 7285 nodes and 11997 edges\n",
      "New graph has 818 nodes and 769 edges\n",
      "Removing 39 duplicated node configs out of 45616\n"
     ]
    },
    {
     "name": "stderr",
     "output_type": "stream",
     "text": [
      " 11%|█         | 22/207 [04:42<37:01, 12.01s/it]"
     ]
    },
    {
     "name": "stdout",
     "output_type": "stream",
     "text": [
      "/home/edu/code/google_fast_or_slow/data/npz_all/npz/layout/nlp/random/train/small_bert_bert_en_uncased_L-8_H-768_A-12_batch_size_16_test.npz\n",
      "Pruning graph...\n",
      "Original graph has 1536 nodes and 2332 edges\n",
      "New graph has 291 nodes and 248 edges\n",
      "Removing 41 duplicated node configs out of 100040\n"
     ]
    },
    {
     "name": "stderr",
     "output_type": "stream",
     "text": [
      " 11%|█         | 23/207 [05:02<44:14, 14.43s/it]"
     ]
    },
    {
     "name": "stdout",
     "output_type": "stream",
     "text": [
      "/home/edu/code/google_fast_or_slow/data/npz_all/npz/layout/nlp/random/train/small_bert_bert_en_uncased_L-12_H-128_A-2_batch_size_16_train.npz\n",
      "Pruning graph...\n",
      "Original graph has 10116 nodes and 16688 edges\n",
      "New graph has 1134 nodes and 1077 edges\n",
      "Removing 39 duplicated node configs out of 46536\n"
     ]
    },
    {
     "name": "stderr",
     "output_type": "stream",
     "text": [
      " 12%|█▏        | 24/207 [05:08<36:11, 11.86s/it]"
     ]
    },
    {
     "name": "stdout",
     "output_type": "stream",
     "text": [
      "/home/edu/code/google_fast_or_slow/data/npz_all/npz/layout/nlp/random/train/albert_en_base_batch_size_64_test.npz\n",
      "Pruning graph...\n",
      "Original graph has 1696 nodes and 2697 edges\n",
      "New graph has 336 nodes and 347 edges\n",
      "Removing 44 duplicated node configs out of 97912\n"
     ]
    },
    {
     "name": "stderr",
     "output_type": "stream",
     "text": [
      " 12%|█▏        | 25/207 [05:26<42:24, 13.98s/it]"
     ]
    },
    {
     "name": "stdout",
     "output_type": "stream",
     "text": [
      "/home/edu/code/google_fast_or_slow/data/npz_all/npz/layout/nlp/random/train/electra_large_batch_size_16_test.npz\n",
      "Pruning graph...\n",
      "Original graph has 3296 nodes and 4908 edges\n",
      "New graph has 723 nodes and 632 edges\n",
      "Removing 40 duplicated node configs out of 68552\n"
     ]
    },
    {
     "name": "stderr",
     "output_type": "stream",
     "text": [
      " 13%|█▎        | 26/207 [05:37<38:58, 12.92s/it]"
     ]
    },
    {
     "name": "stdout",
     "output_type": "stream",
     "text": [
      "/home/edu/code/google_fast_or_slow/data/npz_all/npz/layout/nlp/random/train/small_bert_bert_en_uncased_L-12_H-256_A-4_batch_size_16_test.npz\n",
      "Pruning graph...\n",
      "Original graph has 1976 nodes and 2976 edges\n",
      "New graph has 399 nodes and 344 edges\n",
      "Removing 43 duplicated node configs out of 100040\n"
     ]
    },
    {
     "name": "stderr",
     "output_type": "stream",
     "text": [
      " 13%|█▎        | 27/207 [06:00<47:31, 15.84s/it]"
     ]
    },
    {
     "name": "stdout",
     "output_type": "stream",
     "text": [
      "/home/edu/code/google_fast_or_slow/data/npz_all/npz/layout/nlp/random/train/small_bert_bert_en_uncased_L-8_H-256_A-4_batch_size_32_test.npz\n",
      "Pruning graph...\n",
      "Original graph has 1536 nodes and 2332 edges\n",
      "New graph has 291 nodes and 248 edges\n",
      "Removing 41 duplicated node configs out of 100040\n"
     ]
    },
    {
     "name": "stderr",
     "output_type": "stream",
     "text": [
      " 14%|█▎        | 28/207 [06:19<50:27, 16.92s/it]"
     ]
    },
    {
     "name": "stdout",
     "output_type": "stream",
     "text": [
      "/home/edu/code/google_fast_or_slow/data/npz_all/npz/layout/nlp/random/train/small_bert_bert_en_uncased_L-2_H-768_A-12_batch_size_32_test.npz\n",
      "Pruning graph...\n",
      "Original graph has 876 nodes and 1366 edges\n",
      "New graph has 129 nodes and 104 edges\n"
     ]
    },
    {
     "name": "stderr",
     "output_type": "stream",
     "text": [
      " 14%|█▍        | 29/207 [06:38<51:49, 17.47s/it]"
     ]
    },
    {
     "name": "stdout",
     "output_type": "stream",
     "text": [
      "Removing 44 duplicated node configs out of 100040\n",
      "/home/edu/code/google_fast_or_slow/data/npz_all/npz/layout/nlp/random/train/bert_en_cased_L-12_H-768_A-12_batch_size_64_train.npz\n",
      "Pruning graph...\n",
      "Original graph has 10124 nodes and 16696 edges\n",
      "New graph has 1134 nodes and 1077 edges\n",
      "Removing 39 duplicated node configs out of 24816\n"
     ]
    },
    {
     "name": "stderr",
     "output_type": "stream",
     "text": [
      " 14%|█▍        | 30/207 [06:40<37:58, 12.87s/it]"
     ]
    },
    {
     "name": "stdout",
     "output_type": "stream",
     "text": [
      "/home/edu/code/google_fast_or_slow/data/npz_all/npz/layout/nlp/random/train/small_bert_bert_en_uncased_L-2_H-512_A-8_batch_size_32_train.npz\n",
      "Pruning graph...\n",
      "Original graph has 3036 nodes and 4958 edges\n",
      "New graph has 344 nodes and 307 edges\n",
      "Removing 39 duplicated node configs out of 83592\n"
     ]
    },
    {
     "name": "stderr",
     "output_type": "stream",
     "text": [
      " 15%|█▍        | 31/207 [06:54<38:29, 13.12s/it]"
     ]
    },
    {
     "name": "stdout",
     "output_type": "stream",
     "text": [
      "/home/edu/code/google_fast_or_slow/data/npz_all/npz/layout/nlp/random/train/bert_en_uncased_L-24_H-1024_A-16_batch_size_16_train.npz\n",
      "Pruning graph...\n",
      "Original graph has 18619 nodes and 30771 edges\n",
      "New graph has 2082 nodes and 2001 edges\n",
      "Removing 39 duplicated node configs out of 13928\n"
     ]
    },
    {
     "name": "stderr",
     "output_type": "stream",
     "text": [
      " 15%|█▌        | 32/207 [06:55<28:05,  9.63s/it]"
     ]
    },
    {
     "name": "stdout",
     "output_type": "stream",
     "text": [
      "/home/edu/code/google_fast_or_slow/data/npz_all/npz/layout/nlp/random/train/small_bert_bert_en_uncased_L-12_H-768_A-12_batch_size_16_train.npz\n",
      "Pruning graph...\n",
      "Original graph has 10124 nodes and 16696 edges\n",
      "New graph has 1134 nodes and 1077 edges\n",
      "Removing 39 duplicated node configs out of 27680\n"
     ]
    },
    {
     "name": "stderr",
     "output_type": "stream",
     "text": [
      " 16%|█▌        | 33/207 [06:58<21:51,  7.54s/it]"
     ]
    },
    {
     "name": "stdout",
     "output_type": "stream",
     "text": [
      "/home/edu/code/google_fast_or_slow/data/npz_all/npz/layout/nlp/random/train/bert_en_cased_L-24_H-1024_A-16_batch_size_32_test.npz\n",
      "Pruning graph...\n",
      "Original graph has 3296 nodes and 4908 edges\n",
      "New graph has 723 nodes and 632 edges\n",
      "Removing 42 duplicated node configs out of 70824\n"
     ]
    },
    {
     "name": "stderr",
     "output_type": "stream",
     "text": [
      " 16%|█▋        | 34/207 [07:09<24:37,  8.54s/it]"
     ]
    },
    {
     "name": "stdout",
     "output_type": "stream",
     "text": [
      "/home/edu/code/google_fast_or_slow/data/npz_all/npz/layout/nlp/random/train/small_bert_bert_en_uncased_L-4_H-768_A-12_batch_size_16_train.npz\n",
      "Pruning graph...\n",
      "Original graph has 4460 nodes and 7312 edges\n",
      "New graph has 502 nodes and 461 edges\n",
      "Removing 39 duplicated node configs out of 55384\n"
     ]
    },
    {
     "name": "stderr",
     "output_type": "stream",
     "text": [
      " 17%|█▋        | 35/207 [07:15<22:48,  7.95s/it]"
     ]
    },
    {
     "name": "stdout",
     "output_type": "stream",
     "text": [
      "/home/edu/code/google_fast_or_slow/data/npz_all/npz/layout/nlp/random/train/electra_large_batch_size_16_train.npz\n",
      "Pruning graph...\n",
      "Original graph has 18619 nodes and 30771 edges\n",
      "New graph has 2082 nodes and 2001 edges\n",
      "Removing 39 duplicated node configs out of 14216\n"
     ]
    },
    {
     "name": "stderr",
     "output_type": "stream",
     "text": [
      " 17%|█▋        | 36/207 [07:17<17:05,  6.00s/it]"
     ]
    },
    {
     "name": "stdout",
     "output_type": "stream",
     "text": [
      "/home/edu/code/google_fast_or_slow/data/npz_all/npz/layout/nlp/random/train/small_bert_bert_en_uncased_L-4_H-256_A-4_batch_size_16_train.npz\n",
      "Pruning graph...\n",
      "Original graph has 4459 nodes and 7311 edges\n",
      "New graph has 502 nodes and 461 edges\n",
      "Removing 39 duplicated node configs out of 100016\n"
     ]
    },
    {
     "name": "stderr",
     "output_type": "stream",
     "text": [
      " 18%|█▊        | 37/207 [07:38<29:51, 10.54s/it]"
     ]
    },
    {
     "name": "stdout",
     "output_type": "stream",
     "text": [
      "/home/edu/code/google_fast_or_slow/data/npz_all/npz/layout/nlp/random/train/bert_en_wwm_cased_L-24_H-1024_A-16_batch_size_64_test.npz\n",
      "Pruning graph...\n",
      "Original graph has 3296 nodes and 4908 edges\n",
      "New graph has 723 nodes and 632 edges\n",
      "Removing 42 duplicated node configs out of 65640\n"
     ]
    },
    {
     "name": "stderr",
     "output_type": "stream",
     "text": [
      " 18%|█▊        | 38/207 [07:48<28:58, 10.29s/it]"
     ]
    },
    {
     "name": "stdout",
     "output_type": "stream",
     "text": [
      "/home/edu/code/google_fast_or_slow/data/npz_all/npz/layout/nlp/random/train/talking-heads_base_batch_size_32_test.npz\n",
      "Pruning graph...\n",
      "Original graph has 2120 nodes and 3180 edges\n",
      "New graph has 507 nodes and 452 edges\n",
      "Removing 40 duplicated node configs out of 86160\n"
     ]
    },
    {
     "name": "stderr",
     "output_type": "stream",
     "text": [
      " 19%|█▉        | 39/207 [08:03<32:59, 11.79s/it]"
     ]
    },
    {
     "name": "stdout",
     "output_type": "stream",
     "text": [
      "/home/edu/code/google_fast_or_slow/data/npz_all/npz/layout/nlp/random/train/albert_en_xlarge_batch_size_32_test.npz\n",
      "Pruning graph...\n",
      "Original graph has 2704 nodes and 4317 edges\n",
      "New graph has 588 nodes and 635 edges\n",
      "Removing 40 duplicated node configs out of 54152\n"
     ]
    },
    {
     "name": "stderr",
     "output_type": "stream",
     "text": [
      " 19%|█▉        | 40/207 [08:10<28:34, 10.26s/it]"
     ]
    },
    {
     "name": "stdout",
     "output_type": "stream",
     "text": [
      "/home/edu/code/google_fast_or_slow/data/npz_all/npz/layout/nlp/random/train/electra_small_batch_size_32_test.npz\n",
      "Pruning graph...\n",
      "Original graph has 1982 nodes and 2983 edges\n",
      "New graph has 402 nodes and 347 edges\n",
      "Removing 45 duplicated node configs out of 100040\n"
     ]
    },
    {
     "name": "stderr",
     "output_type": "stream",
     "text": [
      " 20%|█▉        | 41/207 [08:32<38:12, 13.81s/it]"
     ]
    },
    {
     "name": "stdout",
     "output_type": "stream",
     "text": [
      "/home/edu/code/google_fast_or_slow/data/npz_all/npz/layout/nlp/random/train/small_bert_bert_en_uncased_L-10_H-128_A-2_batch_size_16_test.npz\n",
      "Pruning graph...\n",
      "Original graph has 1756 nodes and 2654 edges\n",
      "New graph has 345 nodes and 296 edges\n",
      "Removing 43 duplicated node configs out of 100040\n"
     ]
    },
    {
     "name": "stderr",
     "output_type": "stream",
     "text": [
      " 20%|██        | 42/207 [08:52<43:13, 15.72s/it]"
     ]
    },
    {
     "name": "stdout",
     "output_type": "stream",
     "text": [
      "/home/edu/code/google_fast_or_slow/data/npz_all/npz/layout/nlp/random/train/albert_en_base_batch_size_32_train.npz\n",
      "Pruning graph...\n",
      "Original graph has 5400 nodes and 9113 edges\n",
      "New graph has 995 nodes and 1011 edges\n",
      "Removing 39 duplicated node configs out of 35112\n"
     ]
    },
    {
     "name": "stderr",
     "output_type": "stream",
     "text": [
      " 21%|██        | 43/207 [08:56<33:09, 12.13s/it]"
     ]
    },
    {
     "name": "stdout",
     "output_type": "stream",
     "text": [
      "/home/edu/code/google_fast_or_slow/data/npz_all/npz/layout/nlp/random/train/bert_multi_cased_L-12_H-768_A-12_batch_size_64_test.npz\n",
      "Pruning graph...\n",
      "Original graph has 1976 nodes and 2976 edges\n",
      "New graph has 399 nodes and 344 edges\n",
      "Removing 39 duplicated node configs out of 100040\n"
     ]
    },
    {
     "name": "stderr",
     "output_type": "stream",
     "text": [
      " 21%|██▏       | 44/207 [09:16<39:33, 14.56s/it]"
     ]
    },
    {
     "name": "stdout",
     "output_type": "stream",
     "text": [
      "/home/edu/code/google_fast_or_slow/data/npz_all/npz/layout/nlp/random/train/small_bert_bert_en_uncased_L-12_H-512_A-8_batch_size_64_train.npz\n",
      "Pruning graph...\n",
      "Original graph has 10117 nodes and 16689 edges\n",
      "New graph has 1134 nodes and 1077 edges\n",
      "Removing 39 duplicated node configs out of 28216\n"
     ]
    },
    {
     "name": "stderr",
     "output_type": "stream",
     "text": [
      " 22%|██▏       | 45/207 [09:18<29:39, 10.99s/it]"
     ]
    },
    {
     "name": "stdout",
     "output_type": "stream",
     "text": [
      "/home/edu/code/google_fast_or_slow/data/npz_all/npz/layout/nlp/random/train/small_bert_bert_en_uncased_L-6_H-256_A-4_batch_size_16_test.npz\n",
      "Pruning graph...\n",
      "Original graph has 1316 nodes and 2010 edges\n",
      "New graph has 237 nodes and 200 edges\n",
      "Removing 44 duplicated node configs out of 100040\n"
     ]
    },
    {
     "name": "stderr",
     "output_type": "stream",
     "text": [
      " 22%|██▏       | 46/207 [09:37<35:56, 13.39s/it]"
     ]
    },
    {
     "name": "stdout",
     "output_type": "stream",
     "text": [
      "/home/edu/code/google_fast_or_slow/data/npz_all/npz/layout/nlp/random/train/albert_en_large_batch_size_16_test.npz\n",
      "Pruning graph...\n",
      "Original graph has 2704 nodes and 4317 edges\n",
      "New graph has 588 nodes and 635 edges\n",
      "Removing 39 duplicated node configs out of 61344\n"
     ]
    },
    {
     "name": "stderr",
     "output_type": "stream",
     "text": [
      " 23%|██▎       | 47/207 [09:46<31:42, 11.89s/it]"
     ]
    },
    {
     "name": "stdout",
     "output_type": "stream",
     "text": [
      "/home/edu/code/google_fast_or_slow/data/npz_all/npz/layout/nlp/random/train/electra_large_batch_size_32_train.npz\n",
      "Pruning graph...\n",
      "Original graph has 18620 nodes and 30772 edges\n",
      "New graph has 2082 nodes and 2001 edges\n",
      "Removing 39 duplicated node configs out of 14056\n"
     ]
    },
    {
     "name": "stderr",
     "output_type": "stream",
     "text": [
      " 23%|██▎       | 48/207 [09:47<23:11,  8.75s/it]"
     ]
    },
    {
     "name": "stdout",
     "output_type": "stream",
     "text": [
      "/home/edu/code/google_fast_or_slow/data/npz_all/npz/layout/nlp/random/train/small_bert_bert_en_uncased_L-2_H-256_A-4_batch_size_64_test.npz\n",
      "Pruning graph...\n",
      "Original graph has 876 nodes and 1366 edges\n",
      "New graph has 129 nodes and 104 edges\n"
     ]
    },
    {
     "name": "stderr",
     "output_type": "stream",
     "text": [
      " 24%|██▎       | 49/207 [10:06<31:02, 11.79s/it]"
     ]
    },
    {
     "name": "stdout",
     "output_type": "stream",
     "text": [
      "Removing 44 duplicated node configs out of 100040\n",
      "/home/edu/code/google_fast_or_slow/data/npz_all/npz/layout/nlp/random/train/small_bert_bert_en_uncased_L-4_H-128_A-2_batch_size_64_test.npz\n",
      "Pruning graph...\n",
      "Original graph has 1096 nodes and 1688 edges\n",
      "New graph has 183 nodes and 152 edges\n",
      "Removing 44 duplicated node configs out of 100040\n"
     ]
    },
    {
     "name": "stderr",
     "output_type": "stream",
     "text": [
      " 24%|██▍       | 50/207 [10:25<36:28, 13.94s/it]"
     ]
    },
    {
     "name": "stdout",
     "output_type": "stream",
     "text": [
      "/home/edu/code/google_fast_or_slow/data/npz_all/npz/layout/nlp/random/train/small_bert_bert_en_uncased_L-10_H-512_A-8_batch_size_32_train.npz\n",
      "Pruning graph...\n",
      "Original graph has 8700 nodes and 14342 edges\n",
      "New graph has 976 nodes and 923 edges\n",
      "Removing 39 duplicated node configs out of 35832\n"
     ]
    },
    {
     "name": "stderr",
     "output_type": "stream",
     "text": [
      " 25%|██▍       | 51/207 [10:29<28:11, 10.84s/it]"
     ]
    },
    {
     "name": "stdout",
     "output_type": "stream",
     "text": [
      "/home/edu/code/google_fast_or_slow/data/npz_all/npz/layout/nlp/random/train/small_bert_bert_en_uncased_L-2_H-128_A-2_batch_size_16_train.npz\n",
      "Pruning graph...\n",
      "Original graph has 3036 nodes and 4958 edges\n",
      "New graph has 344 nodes and 307 edges\n",
      "Removing 39 duplicated node configs out of 100040\n"
     ]
    },
    {
     "name": "stderr",
     "output_type": "stream",
     "text": [
      " 25%|██▌       | 52/207 [10:49<35:24, 13.71s/it]"
     ]
    },
    {
     "name": "stdout",
     "output_type": "stream",
     "text": [
      "/home/edu/code/google_fast_or_slow/data/npz_all/npz/layout/nlp/random/train/bert_en_wwm_uncased_L-24_H-1024_A-16_batch_size_16_test.npz\n",
      "Pruning graph...\n",
      "Original graph has 3296 nodes and 4908 edges\n",
      "New graph has 723 nodes and 632 edges\n",
      "Removing 39 duplicated node configs out of 66368\n"
     ]
    },
    {
     "name": "stderr",
     "output_type": "stream",
     "text": [
      " 26%|██▌       | 53/207 [10:59<32:03, 12.49s/it]"
     ]
    },
    {
     "name": "stdout",
     "output_type": "stream",
     "text": [
      "/home/edu/code/google_fast_or_slow/data/npz_all/npz/layout/nlp/random/train/small_bert_bert_en_uncased_L-4_H-768_A-12_batch_size_64_test.npz\n",
      "Pruning graph...\n",
      "Original graph has 1096 nodes and 1688 edges\n",
      "New graph has 183 nodes and 152 edges\n",
      "Removing 39 duplicated node configs out of 100040\n"
     ]
    },
    {
     "name": "stderr",
     "output_type": "stream",
     "text": [
      " 26%|██▌       | 54/207 [11:18<36:54, 14.47s/it]"
     ]
    },
    {
     "name": "stdout",
     "output_type": "stream",
     "text": [
      "/home/edu/code/google_fast_or_slow/data/npz_all/npz/layout/nlp/random/train/albert_en_xlarge_batch_size_64_train.npz\n",
      "Pruning graph...\n",
      "Original graph has 8640 nodes and 14765 edges\n",
      "New graph has 1799 nodes and 1863 edges\n",
      "Removing 39 duplicated node configs out of 16616\n"
     ]
    },
    {
     "name": "stderr",
     "output_type": "stream",
     "text": [
      " 27%|██▋       | 55/207 [11:20<26:59, 10.66s/it]"
     ]
    },
    {
     "name": "stdout",
     "output_type": "stream",
     "text": [
      "/home/edu/code/google_fast_or_slow/data/npz_all/npz/layout/nlp/random/train/talking-heads_large_batch_size_32_test.npz\n",
      "Pruning graph...\n",
      "Original graph has 3584 nodes and 5316 edges\n",
      "New graph has 939 nodes and 848 edges\n",
      "Removing 39 duplicated node configs out of 58048\n"
     ]
    },
    {
     "name": "stderr",
     "output_type": "stream",
     "text": [
      " 27%|██▋       | 56/207 [11:28<25:01,  9.95s/it]"
     ]
    },
    {
     "name": "stdout",
     "output_type": "stream",
     "text": [
      "/home/edu/code/google_fast_or_slow/data/npz_all/npz/layout/nlp/random/train/small_bert_bert_en_uncased_L-2_H-256_A-4_batch_size_64_train.npz\n",
      "Pruning graph...\n",
      "Original graph has 3044 nodes and 4966 edges\n",
      "New graph has 344 nodes and 307 edges\n",
      "Removing 39 duplicated node configs out of 100040\n"
     ]
    },
    {
     "name": "stderr",
     "output_type": "stream",
     "text": [
      " 28%|██▊       | 57/207 [11:48<32:37, 13.05s/it]"
     ]
    },
    {
     "name": "stdout",
     "output_type": "stream",
     "text": [
      "/home/edu/code/google_fast_or_slow/data/npz_all/npz/layout/nlp/random/train/small_bert_bert_en_uncased_L-4_H-256_A-4_batch_size_64_train.npz\n",
      "Pruning graph...\n",
      "Original graph has 4460 nodes and 7312 edges\n",
      "New graph has 502 nodes and 461 edges\n",
      "Removing 39 duplicated node configs out of 78248\n"
     ]
    },
    {
     "name": "stderr",
     "output_type": "stream",
     "text": [
      " 28%|██▊       | 58/207 [12:01<32:09, 12.95s/it]"
     ]
    },
    {
     "name": "stdout",
     "output_type": "stream",
     "text": [
      "/home/edu/code/google_fast_or_slow/data/npz_all/npz/layout/nlp/random/train/small_bert_bert_en_uncased_L-10_H-768_A-12_batch_size_32_train.npz\n",
      "Pruning graph...\n",
      "Original graph has 8708 nodes and 14350 edges\n",
      "New graph has 976 nodes and 923 edges\n",
      "Removing 39 duplicated node configs out of 30432\n"
     ]
    },
    {
     "name": "stderr",
     "output_type": "stream",
     "text": [
      " 29%|██▊       | 59/207 [12:04<24:24,  9.89s/it]"
     ]
    },
    {
     "name": "stdout",
     "output_type": "stream",
     "text": [
      "/home/edu/code/google_fast_or_slow/data/npz_all/npz/layout/nlp/random/train/small_bert_bert_en_uncased_L-8_H-512_A-8_batch_size_32_test.npz\n",
      "Pruning graph...\n",
      "Original graph has 1536 nodes and 2332 edges\n",
      "New graph has 291 nodes and 248 edges\n",
      "Removing 45 duplicated node configs out of 100040\n"
     ]
    },
    {
     "name": "stderr",
     "output_type": "stream",
     "text": [
      " 29%|██▉       | 60/207 [12:24<31:37, 12.91s/it]"
     ]
    },
    {
     "name": "stdout",
     "output_type": "stream",
     "text": [
      "/home/edu/code/google_fast_or_slow/data/npz_all/npz/layout/nlp/random/train/bert_en_wwm_cased_L-24_H-1024_A-16_batch_size_64_train.npz\n",
      "Pruning graph...\n",
      "Original graph has 18619 nodes and 30771 edges\n",
      "New graph has 2082 nodes and 2001 edges\n",
      "Removing 39 duplicated node configs out of 13472\n"
     ]
    },
    {
     "name": "stderr",
     "output_type": "stream",
     "text": [
      " 29%|██▉       | 61/207 [12:25<23:02,  9.47s/it]"
     ]
    },
    {
     "name": "stdout",
     "output_type": "stream",
     "text": [
      "/home/edu/code/google_fast_or_slow/data/npz_all/npz/layout/nlp/random/train/small_bert_bert_en_uncased_L-2_H-768_A-12_batch_size_64_test.npz\n",
      "Pruning graph...\n",
      "Original graph has 876 nodes and 1366 edges\n",
      "New graph has 129 nodes and 104 edges\n"
     ]
    },
    {
     "name": "stderr",
     "output_type": "stream",
     "text": [
      " 30%|██▉       | 62/207 [12:44<29:42, 12.30s/it]"
     ]
    },
    {
     "name": "stdout",
     "output_type": "stream",
     "text": [
      "Removing 42 duplicated node configs out of 100040\n",
      "/home/edu/code/google_fast_or_slow/data/npz_all/npz/layout/nlp/random/train/small_bert_bert_en_uncased_L-10_H-256_A-4_batch_size_32_train.npz\n",
      "Pruning graph...\n",
      "Original graph has 8708 nodes and 14350 edges\n",
      "New graph has 976 nodes and 923 edges\n",
      "Removing 39 duplicated node configs out of 44232\n"
     ]
    },
    {
     "name": "stderr",
     "output_type": "stream",
     "text": [
      " 30%|███       | 63/207 [12:49<24:24, 10.17s/it]"
     ]
    },
    {
     "name": "stdout",
     "output_type": "stream",
     "text": [
      "/home/edu/code/google_fast_or_slow/data/npz_all/npz/layout/nlp/random/train/small_bert_bert_en_uncased_L-12_H-768_A-12_batch_size_64_test.npz\n",
      "Pruning graph...\n",
      "Original graph has 1976 nodes and 2976 edges\n",
      "New graph has 399 nodes and 344 edges\n",
      "Removing 44 duplicated node configs out of 100040\n"
     ]
    },
    {
     "name": "stderr",
     "output_type": "stream",
     "text": [
      " 31%|███       | 64/207 [13:10<31:35, 13.26s/it]"
     ]
    },
    {
     "name": "stdout",
     "output_type": "stream",
     "text": [
      "/home/edu/code/google_fast_or_slow/data/npz_all/npz/layout/nlp/random/train/small_bert_bert_en_uncased_L-12_H-128_A-2_batch_size_16_test.npz\n",
      "Pruning graph...\n",
      "Original graph has 1976 nodes and 2976 edges\n",
      "New graph has 399 nodes and 344 edges\n",
      "Removing 47 duplicated node configs out of 100040\n"
     ]
    },
    {
     "name": "stderr",
     "output_type": "stream",
     "text": [
      " 31%|███▏      | 65/207 [13:30<36:36, 15.46s/it]"
     ]
    },
    {
     "name": "stdout",
     "output_type": "stream",
     "text": [
      "/home/edu/code/google_fast_or_slow/data/npz_all/npz/layout/nlp/random/train/small_bert_bert_en_uncased_L-8_H-128_A-2_batch_size_32_train.npz\n",
      "Pruning graph...\n",
      "Original graph has 7284 nodes and 11996 edges\n",
      "New graph has 818 nodes and 769 edges\n",
      "Removing 39 duplicated node configs out of 67000\n"
     ]
    },
    {
     "name": "stderr",
     "output_type": "stream",
     "text": [
      " 32%|███▏      | 66/207 [13:40<32:39, 13.89s/it]"
     ]
    },
    {
     "name": "stdout",
     "output_type": "stream",
     "text": [
      "/home/edu/code/google_fast_or_slow/data/npz_all/npz/layout/nlp/random/train/small_bert_bert_en_uncased_L-10_H-128_A-2_batch_size_16_train.npz\n",
      "Pruning graph...\n",
      "Original graph has 8700 nodes and 14342 edges\n",
      "New graph has 976 nodes and 923 edges\n",
      "Removing 39 duplicated node configs out of 56112\n"
     ]
    },
    {
     "name": "stderr",
     "output_type": "stream",
     "text": [
      " 32%|███▏      | 67/207 [13:48<28:05, 12.04s/it]"
     ]
    },
    {
     "name": "stdout",
     "output_type": "stream",
     "text": [
      "/home/edu/code/google_fast_or_slow/data/npz_all/npz/layout/nlp/random/train/experts_wiki_books_batch_size_32_train.npz\n",
      "Pruning graph...\n",
      "Original graph has 10124 nodes and 16696 edges\n",
      "New graph has 1134 nodes and 1077 edges\n",
      "Removing 39 duplicated node configs out of 26216\n"
     ]
    },
    {
     "name": "stderr",
     "output_type": "stream",
     "text": [
      " 33%|███▎      | 68/207 [13:50<21:08,  9.13s/it]"
     ]
    },
    {
     "name": "stdout",
     "output_type": "stream",
     "text": [
      "/home/edu/code/google_fast_or_slow/data/npz_all/npz/layout/nlp/random/train/electra_large_batch_size_64_test.npz\n",
      "Pruning graph...\n",
      "Original graph has 3296 nodes and 4908 edges\n",
      "New graph has 723 nodes and 632 edges\n",
      "Removing 44 duplicated node configs out of 65984\n"
     ]
    },
    {
     "name": "stderr",
     "output_type": "stream",
     "text": [
      " 33%|███▎      | 69/207 [14:00<21:28,  9.34s/it]"
     ]
    },
    {
     "name": "stdout",
     "output_type": "stream",
     "text": [
      "/home/edu/code/google_fast_or_slow/data/npz_all/npz/layout/nlp/random/train/bert_en_wwm_cased_L-24_H-1024_A-16_batch_size_32_train.npz\n",
      "Pruning graph...\n",
      "Original graph has 18620 nodes and 30772 edges\n",
      "New graph has 2082 nodes and 2001 edges\n",
      "Removing 39 duplicated node configs out of 14224\n"
     ]
    },
    {
     "name": "stderr",
     "output_type": "stream",
     "text": [
      " 34%|███▍      | 70/207 [14:02<15:54,  6.97s/it]"
     ]
    },
    {
     "name": "stdout",
     "output_type": "stream",
     "text": [
      "/home/edu/code/google_fast_or_slow/data/npz_all/npz/layout/nlp/random/train/small_bert_bert_en_uncased_L-6_H-512_A-8_batch_size_32_test.npz\n",
      "Pruning graph...\n",
      "Original graph has 1316 nodes and 2010 edges\n",
      "New graph has 237 nodes and 200 edges\n",
      "Removing 45 duplicated node configs out of 100040\n"
     ]
    },
    {
     "name": "stderr",
     "output_type": "stream",
     "text": [
      " 34%|███▍      | 71/207 [14:22<25:00, 11.04s/it]"
     ]
    },
    {
     "name": "stdout",
     "output_type": "stream",
     "text": [
      "/home/edu/code/google_fast_or_slow/data/npz_all/npz/layout/nlp/random/train/bert_en_cased_L-24_H-1024_A-16_batch_size_32_train.npz\n",
      "Pruning graph...\n",
      "Original graph has 18620 nodes and 30772 edges\n",
      "New graph has 2082 nodes and 2001 edges\n",
      "Removing 39 duplicated node configs out of 14000\n"
     ]
    },
    {
     "name": "stderr",
     "output_type": "stream",
     "text": [
      " 35%|███▍      | 72/207 [14:24<18:20,  8.15s/it]"
     ]
    },
    {
     "name": "stdout",
     "output_type": "stream",
     "text": [
      "/home/edu/code/google_fast_or_slow/data/npz_all/npz/layout/nlp/random/train/small_bert_bert_en_uncased_L-6_H-128_A-2_batch_size_32_test.npz\n",
      "Pruning graph...\n",
      "Original graph has 1316 nodes and 2010 edges\n",
      "New graph has 237 nodes and 200 edges\n",
      "Removing 47 duplicated node configs out of 100040\n"
     ]
    },
    {
     "name": "stderr",
     "output_type": "stream",
     "text": [
      " 35%|███▌      | 73/207 [14:44<26:06, 11.69s/it]"
     ]
    },
    {
     "name": "stdout",
     "output_type": "stream",
     "text": [
      "/home/edu/code/google_fast_or_slow/data/npz_all/npz/layout/nlp/random/train/talking-heads_large_batch_size_32_train.npz\n",
      "Pruning graph...\n",
      "Original graph has 21919 nodes and 36279 edges\n",
      "New graph has 2850 nodes and 2745 edges\n",
      "Removing 39 duplicated node configs out of 11098\n"
     ]
    },
    {
     "name": "stderr",
     "output_type": "stream",
     "text": [
      " 36%|███▌      | 74/207 [14:45<19:02,  8.59s/it]"
     ]
    },
    {
     "name": "stdout",
     "output_type": "stream",
     "text": [
      "/home/edu/code/google_fast_or_slow/data/npz_all/npz/layout/nlp/random/train/small_bert_bert_en_uncased_L-6_H-768_A-12_batch_size_64_test.npz\n",
      "Pruning graph...\n",
      "Original graph has 1316 nodes and 2010 edges\n",
      "New graph has 237 nodes and 200 edges\n",
      "Removing 45 duplicated node configs out of 100040\n"
     ]
    },
    {
     "name": "stderr",
     "output_type": "stream",
     "text": [
      " 36%|███▌      | 75/207 [15:05<26:20, 11.97s/it]"
     ]
    },
    {
     "name": "stdout",
     "output_type": "stream",
     "text": [
      "/home/edu/code/google_fast_or_slow/data/npz_all/npz/layout/nlp/random/train/bert_en_uncased_L-24_H-1024_A-16_batch_size_32_test.npz\n",
      "Pruning graph...\n",
      "Original graph has 3296 nodes and 4908 edges\n",
      "New graph has 723 nodes and 632 edges\n",
      "Removing 41 duplicated node configs out of 69152\n"
     ]
    },
    {
     "name": "stderr",
     "output_type": "stream",
     "text": [
      " 37%|███▋      | 76/207 [15:15<25:07, 11.51s/it]"
     ]
    },
    {
     "name": "stdout",
     "output_type": "stream",
     "text": [
      "/home/edu/code/google_fast_or_slow/data/npz_all/npz/layout/nlp/random/train/small_bert_bert_en_uncased_L-12_H-256_A-4_batch_size_16_train.npz\n",
      "Pruning graph...\n",
      "Original graph has 10123 nodes and 16695 edges\n",
      "New graph has 1134 nodes and 1077 edges\n",
      "Removing 39 duplicated node configs out of 40736\n"
     ]
    },
    {
     "name": "stderr",
     "output_type": "stream",
     "text": [
      " 37%|███▋      | 77/207 [15:20<20:30,  9.46s/it]"
     ]
    },
    {
     "name": "stdout",
     "output_type": "stream",
     "text": [
      "/home/edu/code/google_fast_or_slow/data/npz_all/npz/layout/nlp/random/train/experts_wiki_books_batch_size_64_test.npz\n",
      "Pruning graph...\n",
      "Original graph has 1976 nodes and 2976 edges\n",
      "New graph has 399 nodes and 344 edges\n",
      "Removing 42 duplicated node configs out of 100040\n"
     ]
    },
    {
     "name": "stderr",
     "output_type": "stream",
     "text": [
      " 38%|███▊      | 78/207 [15:41<27:36, 12.84s/it]"
     ]
    },
    {
     "name": "stdout",
     "output_type": "stream",
     "text": [
      "/home/edu/code/google_fast_or_slow/data/npz_all/npz/layout/nlp/random/train/small_bert_bert_en_uncased_L-12_H-512_A-8_batch_size_16_test.npz\n",
      "Pruning graph...\n",
      "Original graph has 1976 nodes and 2976 edges\n",
      "New graph has 399 nodes and 344 edges\n",
      "Removing 44 duplicated node configs out of 100040\n"
     ]
    },
    {
     "name": "stderr",
     "output_type": "stream",
     "text": [
      " 38%|███▊      | 79/207 [16:01<32:06, 15.05s/it]"
     ]
    },
    {
     "name": "stdout",
     "output_type": "stream",
     "text": [
      "/home/edu/code/google_fast_or_slow/data/npz_all/npz/layout/nlp/random/train/electra_large_batch_size_64_train.npz\n",
      "Pruning graph...\n",
      "Original graph has 18619 nodes and 30771 edges\n",
      "New graph has 2082 nodes and 2001 edges\n",
      "Removing 39 duplicated node configs out of 13240\n"
     ]
    },
    {
     "name": "stderr",
     "output_type": "stream",
     "text": [
      " 39%|███▊      | 80/207 [16:02<23:10, 10.95s/it]"
     ]
    },
    {
     "name": "stdout",
     "output_type": "stream",
     "text": [
      "/home/edu/code/google_fast_or_slow/data/npz_all/npz/layout/nlp/random/train/small_bert_bert_en_uncased_L-2_H-768_A-12_batch_size_32_train.npz\n",
      "Pruning graph...\n",
      "Original graph has 3044 nodes and 4966 edges\n",
      "New graph has 344 nodes and 307 edges\n",
      "Removing 39 duplicated node configs out of 67024\n"
     ]
    },
    {
     "name": "stderr",
     "output_type": "stream",
     "text": [
      " 39%|███▉      | 81/207 [16:12<21:56, 10.45s/it]"
     ]
    },
    {
     "name": "stdout",
     "output_type": "stream",
     "text": [
      "/home/edu/code/google_fast_or_slow/data/npz_all/npz/layout/nlp/random/train/small_bert_bert_en_uncased_L-6_H-768_A-12_batch_size_16_train.npz\n",
      "Pruning graph...\n",
      "Original graph has 5876 nodes and 9658 edges\n",
      "New graph has 660 nodes and 615 edges\n",
      "Removing 39 duplicated node configs out of 45456\n"
     ]
    },
    {
     "name": "stderr",
     "output_type": "stream",
     "text": [
      " 40%|███▉      | 82/207 [16:16<18:16,  8.77s/it]"
     ]
    },
    {
     "name": "stdout",
     "output_type": "stream",
     "text": [
      "/home/edu/code/google_fast_or_slow/data/npz_all/npz/layout/nlp/random/train/small_bert_bert_en_uncased_L-4_H-128_A-2_batch_size_32_train.npz\n",
      "Pruning graph...\n",
      "Original graph has 4452 nodes and 7304 edges\n",
      "New graph has 502 nodes and 461 edges\n",
      "Removing 39 duplicated node configs out of 100040\n"
     ]
    },
    {
     "name": "stderr",
     "output_type": "stream",
     "text": [
      " 40%|████      | 83/207 [16:37<25:36, 12.39s/it]"
     ]
    },
    {
     "name": "stdout",
     "output_type": "stream",
     "text": [
      "/home/edu/code/google_fast_or_slow/data/npz_all/npz/layout/nlp/random/train/small_bert_bert_en_uncased_L-12_H-256_A-4_batch_size_32_test.npz\n",
      "Pruning graph...\n",
      "Original graph has 1976 nodes and 2976 edges\n",
      "New graph has 399 nodes and 344 edges\n",
      "Removing 43 duplicated node configs out of 100040\n"
     ]
    },
    {
     "name": "stderr",
     "output_type": "stream",
     "text": [
      " 41%|████      | 84/207 [16:57<30:05, 14.68s/it]"
     ]
    },
    {
     "name": "stdout",
     "output_type": "stream",
     "text": [
      "/home/edu/code/google_fast_or_slow/data/npz_all/npz/layout/nlp/random/train/small_bert_bert_en_uncased_L-8_H-768_A-12_batch_size_64_train.npz\n",
      "Pruning graph...\n",
      "Original graph has 7292 nodes and 12004 edges\n",
      "New graph has 818 nodes and 769 edges\n",
      "Removing 39 duplicated node configs out of 33544\n"
     ]
    },
    {
     "name": "stderr",
     "output_type": "stream",
     "text": [
      " 41%|████      | 85/207 [17:00<22:45, 11.20s/it]"
     ]
    },
    {
     "name": "stdout",
     "output_type": "stream",
     "text": [
      "/home/edu/code/google_fast_or_slow/data/npz_all/npz/layout/nlp/random/train/talking-heads_base_batch_size_64_test.npz\n",
      "Pruning graph...\n",
      "Original graph has 2120 nodes and 3180 edges\n",
      "New graph has 507 nodes and 452 edges\n",
      "Removing 39 duplicated node configs out of 80248\n"
     ]
    },
    {
     "name": "stderr",
     "output_type": "stream",
     "text": [
      " 42%|████▏     | 86/207 [17:14<23:45, 11.78s/it]"
     ]
    },
    {
     "name": "stdout",
     "output_type": "stream",
     "text": [
      "/home/edu/code/google_fast_or_slow/data/npz_all/npz/layout/nlp/random/train/small_bert_bert_en_uncased_L-6_H-768_A-12_batch_size_32_test.npz\n",
      "Pruning graph...\n",
      "Original graph has 1316 nodes and 2010 edges\n",
      "New graph has 237 nodes and 200 edges\n",
      "Removing 43 duplicated node configs out of 100040\n"
     ]
    },
    {
     "name": "stderr",
     "output_type": "stream",
     "text": [
      " 42%|████▏     | 87/207 [17:33<28:23, 14.19s/it]"
     ]
    },
    {
     "name": "stdout",
     "output_type": "stream",
     "text": [
      "/home/edu/code/google_fast_or_slow/data/npz_all/npz/layout/nlp/random/train/experts_pubmed_batch_size_64_test.npz\n",
      "Pruning graph...\n",
      "Original graph has 1976 nodes and 2976 edges\n",
      "New graph has 399 nodes and 344 edges\n",
      "Removing 41 duplicated node configs out of 100040\n"
     ]
    },
    {
     "name": "stderr",
     "output_type": "stream",
     "text": [
      " 43%|████▎     | 88/207 [17:54<32:07, 16.20s/it]"
     ]
    },
    {
     "name": "stdout",
     "output_type": "stream",
     "text": [
      "/home/edu/code/google_fast_or_slow/data/npz_all/npz/layout/nlp/random/train/electra_small_batch_size_64_train.npz\n",
      "Pruning graph...\n",
      "Original graph has 10232 nodes and 16857 edges\n",
      "New graph has 1139 nodes and 1083 edges\n",
      "Removing 39 duplicated node configs out of 35256\n"
     ]
    },
    {
     "name": "stderr",
     "output_type": "stream",
     "text": [
      " 43%|████▎     | 89/207 [17:58<24:30, 12.46s/it]"
     ]
    },
    {
     "name": "stdout",
     "output_type": "stream",
     "text": [
      "/home/edu/code/google_fast_or_slow/data/npz_all/npz/layout/nlp/random/train/small_bert_bert_en_uncased_L-10_H-512_A-8_batch_size_16_train.npz\n",
      "Pruning graph...\n",
      "Original graph has 8701 nodes and 14343 edges\n",
      "New graph has 976 nodes and 923 edges\n",
      "Removing 39 duplicated node configs out of 37832\n"
     ]
    },
    {
     "name": "stderr",
     "output_type": "stream",
     "text": [
      " 43%|████▎     | 90/207 [18:02<19:19,  9.91s/it]"
     ]
    },
    {
     "name": "stdout",
     "output_type": "stream",
     "text": [
      "/home/edu/code/google_fast_or_slow/data/npz_all/npz/layout/nlp/random/train/bert_multi_cased_L-12_H-768_A-12_batch_size_64_train.npz\n",
      "Pruning graph...\n",
      "Original graph has 10124 nodes and 16696 edges\n",
      "New graph has 1134 nodes and 1077 edges\n",
      "Removing 39 duplicated node configs out of 25280\n"
     ]
    },
    {
     "name": "stderr",
     "output_type": "stream",
     "text": [
      " 44%|████▍     | 91/207 [18:04<14:41,  7.60s/it]"
     ]
    },
    {
     "name": "stdout",
     "output_type": "stream",
     "text": [
      "/home/edu/code/google_fast_or_slow/data/npz_all/npz/layout/nlp/random/train/bert_en_uncased_L-12_H-768_A-12_batch_size_64_train.npz\n",
      "Pruning graph...\n",
      "Original graph has 10124 nodes and 16696 edges\n",
      "New graph has 1134 nodes and 1077 edges\n",
      "Removing 39 duplicated node configs out of 24720\n"
     ]
    },
    {
     "name": "stderr",
     "output_type": "stream",
     "text": [
      " 44%|████▍     | 92/207 [18:06<11:25,  5.96s/it]"
     ]
    },
    {
     "name": "stdout",
     "output_type": "stream",
     "text": [
      "/home/edu/code/google_fast_or_slow/data/npz_all/npz/layout/nlp/random/train/albert_en_large_batch_size_32_test.npz\n",
      "Pruning graph...\n",
      "Original graph has 2704 nodes and 4317 edges\n",
      "New graph has 588 nodes and 635 edges\n",
      "Removing 41 duplicated node configs out of 66976\n"
     ]
    },
    {
     "name": "stderr",
     "output_type": "stream",
     "text": [
      " 45%|████▍     | 93/207 [18:16<13:41,  7.21s/it]"
     ]
    },
    {
     "name": "stdout",
     "output_type": "stream",
     "text": [
      "/home/edu/code/google_fast_or_slow/data/npz_all/npz/layout/nlp/random/train/small_bert_bert_en_uncased_L-6_H-128_A-2_batch_size_16_train.npz\n",
      "Pruning graph...\n",
      "Original graph has 5868 nodes and 9650 edges\n",
      "New graph has 660 nodes and 615 edges\n",
      "Removing 39 duplicated node configs out of 90344\n"
     ]
    },
    {
     "name": "stderr",
     "output_type": "stream",
     "text": [
      " 45%|████▌     | 94/207 [18:33<19:06, 10.14s/it]"
     ]
    },
    {
     "name": "stdout",
     "output_type": "stream",
     "text": [
      "/home/edu/code/google_fast_or_slow/data/npz_all/npz/layout/nlp/random/train/small_bert_bert_en_uncased_L-2_H-768_A-12_batch_size_16_test.npz\n",
      "Pruning graph...\n",
      "Original graph has 876 nodes and 1366 edges\n",
      "New graph has 129 nodes and 104 edges\n"
     ]
    },
    {
     "name": "stderr",
     "output_type": "stream",
     "text": [
      " 46%|████▌     | 95/207 [18:53<24:11, 12.96s/it]"
     ]
    },
    {
     "name": "stdout",
     "output_type": "stream",
     "text": [
      "Removing 42 duplicated node configs out of 100040\n",
      "/home/edu/code/google_fast_or_slow/data/npz_all/npz/layout/nlp/random/train/bert_en_uncased_L-24_H-1024_A-16_batch_size_64_test.npz\n",
      "Pruning graph...\n",
      "Original graph has 3296 nodes and 4908 edges\n",
      "New graph has 723 nodes and 632 edges\n",
      "Removing 41 duplicated node configs out of 66896\n"
     ]
    },
    {
     "name": "stderr",
     "output_type": "stream",
     "text": [
      " 46%|████▋     | 96/207 [19:03<22:15, 12.03s/it]"
     ]
    },
    {
     "name": "stdout",
     "output_type": "stream",
     "text": [
      "/home/edu/code/google_fast_or_slow/data/npz_all/npz/layout/nlp/random/train/small_bert_bert_en_uncased_L-2_H-256_A-4_batch_size_16_train.npz\n",
      "Pruning graph...\n",
      "Original graph has 3043 nodes and 4965 edges\n",
      "New graph has 344 nodes and 307 edges\n",
      "Removing 39 duplicated node configs out of 100040\n"
     ]
    },
    {
     "name": "stderr",
     "output_type": "stream",
     "text": [
      " 47%|████▋     | 97/207 [19:23<26:41, 14.56s/it]"
     ]
    },
    {
     "name": "stdout",
     "output_type": "stream",
     "text": [
      "/home/edu/code/google_fast_or_slow/data/npz_all/npz/layout/nlp/random/train/bert_en_wwm_uncased_L-24_H-1024_A-16_batch_size_64_test.npz\n",
      "Pruning graph...\n",
      "Original graph has 3296 nodes and 4908 edges\n",
      "New graph has 723 nodes and 632 edges\n",
      "Removing 41 duplicated node configs out of 64776\n"
     ]
    },
    {
     "name": "stderr",
     "output_type": "stream",
     "text": [
      " 47%|████▋     | 98/207 [19:32<23:33, 12.96s/it]"
     ]
    },
    {
     "name": "stdout",
     "output_type": "stream",
     "text": [
      "/home/edu/code/google_fast_or_slow/data/npz_all/npz/layout/nlp/random/train/small_bert_bert_en_uncased_L-12_H-512_A-8_batch_size_64_test.npz\n",
      "Pruning graph...\n",
      "Original graph has 1976 nodes and 2976 edges\n",
      "New graph has 399 nodes and 344 edges\n",
      "Removing 41 duplicated node configs out of 100040\n"
     ]
    },
    {
     "name": "stderr",
     "output_type": "stream",
     "text": [
      " 48%|████▊     | 99/207 [19:53<27:30, 15.28s/it]"
     ]
    },
    {
     "name": "stdout",
     "output_type": "stream",
     "text": [
      "/home/edu/code/google_fast_or_slow/data/npz_all/npz/layout/nlp/random/train/small_bert_bert_en_uncased_L-4_H-512_A-8_batch_size_32_test.npz\n",
      "Pruning graph...\n",
      "Original graph has 1096 nodes and 1688 edges\n",
      "New graph has 183 nodes and 152 edges\n",
      "Removing 42 duplicated node configs out of 100040\n"
     ]
    },
    {
     "name": "stderr",
     "output_type": "stream",
     "text": [
      " 48%|████▊     | 100/207 [20:12<29:07, 16.34s/it]"
     ]
    },
    {
     "name": "stdout",
     "output_type": "stream",
     "text": [
      "/home/edu/code/google_fast_or_slow/data/npz_all/npz/layout/nlp/random/train/bert_en_uncased_L-24_H-1024_A-16_batch_size_64_train.npz\n",
      "Pruning graph...\n",
      "Original graph has 18619 nodes and 30771 edges\n",
      "New graph has 2082 nodes and 2001 edges\n",
      "Removing 39 duplicated node configs out of 13504\n"
     ]
    },
    {
     "name": "stderr",
     "output_type": "stream",
     "text": [
      " 49%|████▉     | 101/207 [20:13<20:55, 11.84s/it]"
     ]
    },
    {
     "name": "stdout",
     "output_type": "stream",
     "text": [
      "/home/edu/code/google_fast_or_slow/data/npz_all/npz/layout/nlp/random/train/small_bert_bert_en_uncased_L-10_H-512_A-8_batch_size_16_test.npz\n",
      "Pruning graph...\n",
      "Original graph has 1756 nodes and 2654 edges\n",
      "New graph has 345 nodes and 296 edges\n",
      "Removing 44 duplicated node configs out of 100040\n"
     ]
    },
    {
     "name": "stderr",
     "output_type": "stream",
     "text": [
      " 49%|████▉     | 102/207 [20:33<25:03, 14.32s/it]"
     ]
    },
    {
     "name": "stdout",
     "output_type": "stream",
     "text": [
      "/home/edu/code/google_fast_or_slow/data/npz_all/npz/layout/nlp/random/train/bert_en_uncased_L-24_H-1024_A-16_batch_size_32_train.npz\n",
      "Pruning graph...\n",
      "Original graph has 18620 nodes and 30772 edges\n",
      "New graph has 2082 nodes and 2001 edges\n",
      "Removing 39 duplicated node configs out of 14240\n"
     ]
    },
    {
     "name": "stderr",
     "output_type": "stream",
     "text": [
      " 50%|████▉     | 103/207 [20:35<18:07, 10.46s/it]"
     ]
    },
    {
     "name": "stdout",
     "output_type": "stream",
     "text": [
      "/home/edu/code/google_fast_or_slow/data/npz_all/npz/layout/nlp/random/train/electra_base_batch_size_64_test.npz\n",
      "Pruning graph...\n",
      "Original graph has 1976 nodes and 2976 edges\n",
      "New graph has 399 nodes and 344 edges\n",
      "Removing 41 duplicated node configs out of 100040\n"
     ]
    },
    {
     "name": "stderr",
     "output_type": "stream",
     "text": [
      " 50%|█████     | 104/207 [20:54<22:40, 13.20s/it]"
     ]
    },
    {
     "name": "stdout",
     "output_type": "stream",
     "text": [
      "/home/edu/code/google_fast_or_slow/data/npz_all/npz/layout/nlp/random/train/experts_pubmed_batch_size_32_test.npz\n",
      "Pruning graph...\n",
      "Original graph has 1976 nodes and 2976 edges\n",
      "New graph has 399 nodes and 344 edges\n",
      "Removing 42 duplicated node configs out of 100040\n"
     ]
    },
    {
     "name": "stderr",
     "output_type": "stream",
     "text": [
      " 51%|█████     | 105/207 [21:15<26:12, 15.42s/it]"
     ]
    },
    {
     "name": "stdout",
     "output_type": "stream",
     "text": [
      "/home/edu/code/google_fast_or_slow/data/npz_all/npz/layout/nlp/random/train/small_bert_bert_en_uncased_L-8_H-256_A-4_batch_size_64_test.npz\n",
      "Pruning graph...\n",
      "Original graph has 1536 nodes and 2332 edges\n",
      "New graph has 291 nodes and 248 edges\n",
      "Removing 45 duplicated node configs out of 100040\n"
     ]
    },
    {
     "name": "stderr",
     "output_type": "stream",
     "text": [
      " 51%|█████     | 106/207 [21:34<27:56, 16.60s/it]"
     ]
    },
    {
     "name": "stdout",
     "output_type": "stream",
     "text": [
      "/home/edu/code/google_fast_or_slow/data/npz_all/npz/layout/nlp/random/train/small_bert_bert_en_uncased_L-12_H-512_A-8_batch_size_32_train.npz\n",
      "Pruning graph...\n",
      "Original graph has 10116 nodes and 16688 edges\n",
      "New graph has 1134 nodes and 1077 edges\n",
      "Removing 39 duplicated node configs out of 30456\n"
     ]
    },
    {
     "name": "stderr",
     "output_type": "stream",
     "text": [
      " 52%|█████▏    | 107/207 [21:37<20:53, 12.53s/it]"
     ]
    },
    {
     "name": "stdout",
     "output_type": "stream",
     "text": [
      "/home/edu/code/google_fast_or_slow/data/npz_all/npz/layout/nlp/random/train/small_bert_bert_en_uncased_L-10_H-128_A-2_batch_size_32_train.npz\n",
      "Pruning graph...\n",
      "Original graph has 8700 nodes and 14342 edges\n",
      "New graph has 976 nodes and 923 edges\n",
      "Removing 39 duplicated node configs out of 53200\n"
     ]
    },
    {
     "name": "stderr",
     "output_type": "stream",
     "text": [
      " 52%|█████▏    | 108/207 [21:45<17:58, 10.90s/it]"
     ]
    },
    {
     "name": "stdout",
     "output_type": "stream",
     "text": [
      "/home/edu/code/google_fast_or_slow/data/npz_all/npz/layout/nlp/random/train/bert_en_uncased_L-24_H-1024_A-16_batch_size_16_test.npz\n",
      "Pruning graph...\n",
      "Original graph has 3296 nodes and 4908 edges\n",
      "New graph has 723 nodes and 632 edges\n",
      "Removing 42 duplicated node configs out of 68200\n"
     ]
    },
    {
     "name": "stderr",
     "output_type": "stream",
     "text": [
      " 53%|█████▎    | 109/207 [21:55<17:26, 10.68s/it]"
     ]
    },
    {
     "name": "stdout",
     "output_type": "stream",
     "text": [
      "/home/edu/code/google_fast_or_slow/data/npz_all/npz/layout/nlp/random/train/albert_en_base_batch_size_16_test.npz\n",
      "Pruning graph...\n",
      "Original graph has 1696 nodes and 2697 edges\n",
      "New graph has 336 nodes and 347 edges\n",
      "Removing 42 duplicated node configs out of 100040\n"
     ]
    },
    {
     "name": "stderr",
     "output_type": "stream",
     "text": [
      " 53%|█████▎    | 110/207 [22:16<22:13, 13.74s/it]"
     ]
    },
    {
     "name": "stdout",
     "output_type": "stream",
     "text": [
      "/home/edu/code/google_fast_or_slow/data/npz_all/npz/layout/nlp/random/train/small_bert_bert_en_uncased_L-10_H-256_A-4_batch_size_64_test.npz\n",
      "Pruning graph...\n",
      "Original graph has 1756 nodes and 2654 edges\n",
      "New graph has 345 nodes and 296 edges\n",
      "Removing 42 duplicated node configs out of 100040\n"
     ]
    },
    {
     "name": "stderr",
     "output_type": "stream",
     "text": [
      " 54%|█████▎    | 111/207 [22:36<25:01, 15.64s/it]"
     ]
    },
    {
     "name": "stdout",
     "output_type": "stream",
     "text": [
      "/home/edu/code/google_fast_or_slow/data/npz_all/npz/layout/nlp/random/train/albert_en_xlarge_batch_size_64_test.npz\n",
      "Pruning graph...\n",
      "Original graph has 2704 nodes and 4317 edges\n",
      "New graph has 588 nodes and 635 edges\n",
      "Removing 39 duplicated node configs out of 49544\n"
     ]
    },
    {
     "name": "stderr",
     "output_type": "stream",
     "text": [
      " 54%|█████▍    | 112/207 [22:41<20:03, 12.67s/it]"
     ]
    },
    {
     "name": "stdout",
     "output_type": "stream",
     "text": [
      "/home/edu/code/google_fast_or_slow/data/npz_all/npz/layout/nlp/random/train/small_bert_bert_en_uncased_L-6_H-256_A-4_batch_size_64_test.npz\n",
      "Pruning graph...\n",
      "Original graph has 1316 nodes and 2010 edges\n",
      "New graph has 237 nodes and 200 edges\n",
      "Removing 44 duplicated node configs out of 100040\n"
     ]
    },
    {
     "name": "stderr",
     "output_type": "stream",
     "text": [
      " 55%|█████▍    | 113/207 [23:01<22:56, 14.64s/it]"
     ]
    },
    {
     "name": "stdout",
     "output_type": "stream",
     "text": [
      "/home/edu/code/google_fast_or_slow/data/npz_all/npz/layout/nlp/random/train/small_bert_bert_en_uncased_L-8_H-512_A-8_batch_size_64_train.npz\n",
      "Pruning graph...\n",
      "Original graph has 7285 nodes and 11997 edges\n",
      "New graph has 818 nodes and 769 edges\n",
      "Removing 39 duplicated node configs out of 38352\n"
     ]
    },
    {
     "name": "stderr",
     "output_type": "stream",
     "text": [
      " 55%|█████▌    | 114/207 [23:04<17:40, 11.41s/it]"
     ]
    },
    {
     "name": "stdout",
     "output_type": "stream",
     "text": [
      "/home/edu/code/google_fast_or_slow/data/npz_all/npz/layout/nlp/random/train/small_bert_bert_en_uncased_L-8_H-256_A-4_batch_size_64_train.npz\n",
      "Pruning graph...\n",
      "Original graph has 7292 nodes and 12004 edges\n",
      "New graph has 818 nodes and 769 edges\n",
      "Removing 39 duplicated node configs out of 50776\n"
     ]
    },
    {
     "name": "stderr",
     "output_type": "stream",
     "text": [
      " 56%|█████▌    | 115/207 [23:11<15:06,  9.85s/it]"
     ]
    },
    {
     "name": "stdout",
     "output_type": "stream",
     "text": [
      "/home/edu/code/google_fast_or_slow/data/npz_all/npz/layout/nlp/random/train/small_bert_bert_en_uncased_L-6_H-128_A-2_batch_size_32_train.npz\n",
      "Pruning graph...\n",
      "Original graph has 5868 nodes and 9650 edges\n",
      "New graph has 660 nodes and 615 edges\n",
      "Removing 39 duplicated node configs out of 85768\n"
     ]
    },
    {
     "name": "stderr",
     "output_type": "stream",
     "text": [
      " 56%|█████▌    | 116/207 [23:26<17:27, 11.51s/it]"
     ]
    },
    {
     "name": "stdout",
     "output_type": "stream",
     "text": [
      "/home/edu/code/google_fast_or_slow/data/npz_all/npz/layout/nlp/random/train/bert_en_wwm_uncased_L-24_H-1024_A-16_batch_size_32_test.npz\n",
      "Pruning graph...\n",
      "Original graph has 3296 nodes and 4908 edges\n",
      "New graph has 723 nodes and 632 edges\n",
      "Removing 43 duplicated node configs out of 69512\n"
     ]
    },
    {
     "name": "stderr",
     "output_type": "stream",
     "text": [
      " 57%|█████▋    | 117/207 [23:37<16:57, 11.30s/it]"
     ]
    },
    {
     "name": "stdout",
     "output_type": "stream",
     "text": [
      "/home/edu/code/google_fast_or_slow/data/npz_all/npz/layout/nlp/random/train/bert_en_cased_L-24_H-1024_A-16_batch_size_16_train.npz\n",
      "Pruning graph...\n",
      "Original graph has 18619 nodes and 30771 edges\n",
      "New graph has 2082 nodes and 2001 edges\n",
      "Removing 39 duplicated node configs out of 14392\n"
     ]
    },
    {
     "name": "stderr",
     "output_type": "stream",
     "text": [
      " 57%|█████▋    | 118/207 [23:38<12:23,  8.35s/it]"
     ]
    },
    {
     "name": "stdout",
     "output_type": "stream",
     "text": [
      "/home/edu/code/google_fast_or_slow/data/npz_all/npz/layout/nlp/random/train/talking-heads_base_batch_size_16_train.npz\n",
      "Pruning graph...\n",
      "Original graph has 11779 nodes and 19455 edges\n",
      "New graph has 1518 nodes and 1449 edges\n",
      "Removing 39 duplicated node configs out of 21960\n"
     ]
    },
    {
     "name": "stderr",
     "output_type": "stream",
     "text": [
      " 57%|█████▋    | 119/207 [23:40<09:29,  6.47s/it]"
     ]
    },
    {
     "name": "stdout",
     "output_type": "stream",
     "text": [
      "/home/edu/code/google_fast_or_slow/data/npz_all/npz/layout/nlp/random/train/small_bert_bert_en_uncased_L-8_H-512_A-8_batch_size_16_test.npz\n",
      "Pruning graph...\n",
      "Original graph has 1536 nodes and 2332 edges\n",
      "New graph has 291 nodes and 248 edges\n",
      "Removing 42 duplicated node configs out of 100040\n"
     ]
    },
    {
     "name": "stderr",
     "output_type": "stream",
     "text": [
      " 58%|█████▊    | 120/207 [24:02<15:49, 10.91s/it]"
     ]
    },
    {
     "name": "stdout",
     "output_type": "stream",
     "text": [
      "/home/edu/code/google_fast_or_slow/data/npz_all/npz/layout/nlp/random/train/bert_en_cased_L-12_H-768_A-12_batch_size_32_test.npz\n",
      "Pruning graph...\n",
      "Original graph has 1976 nodes and 2976 edges\n",
      "New graph has 399 nodes and 344 edges\n",
      "Removing 45 duplicated node configs out of 100040\n"
     ]
    },
    {
     "name": "stderr",
     "output_type": "stream",
     "text": [
      " 58%|█████▊    | 121/207 [24:23<20:12, 14.10s/it]"
     ]
    },
    {
     "name": "stdout",
     "output_type": "stream",
     "text": [
      "/home/edu/code/google_fast_or_slow/data/npz_all/npz/layout/nlp/random/train/bert_en_cased_L-12_H-768_A-12_batch_size_32_train.npz\n",
      "Pruning graph...\n",
      "Original graph has 10124 nodes and 16696 edges\n",
      "New graph has 1134 nodes and 1077 edges\n",
      "Removing 39 duplicated node configs out of 25560\n"
     ]
    },
    {
     "name": "stderr",
     "output_type": "stream",
     "text": [
      " 59%|█████▉    | 122/207 [24:25<14:55, 10.54s/it]"
     ]
    },
    {
     "name": "stdout",
     "output_type": "stream",
     "text": [
      "/home/edu/code/google_fast_or_slow/data/npz_all/npz/layout/nlp/random/train/albert_en_xxlarge_batch_size_16_test.npz\n",
      "Pruning graph...\n",
      "Original graph has 1696 nodes and 2697 edges\n",
      "New graph has 336 nodes and 347 edges\n",
      "Removing 41 duplicated node configs out of 66032\n"
     ]
    },
    {
     "name": "stderr",
     "output_type": "stream",
     "text": [
      " 59%|█████▉    | 123/207 [24:34<14:04, 10.06s/it]"
     ]
    },
    {
     "name": "stdout",
     "output_type": "stream",
     "text": [
      "/home/edu/code/google_fast_or_slow/data/npz_all/npz/layout/nlp/random/train/albert_en_xlarge_batch_size_16_train.npz\n",
      "Pruning graph...\n",
      "Original graph has 8640 nodes and 14765 edges\n",
      "New graph has 1799 nodes and 1863 edges\n",
      "Removing 39 duplicated node configs out of 19328\n"
     ]
    },
    {
     "name": "stderr",
     "output_type": "stream",
     "text": [
      " 60%|█████▉    | 124/207 [24:37<10:40,  7.72s/it]"
     ]
    },
    {
     "name": "stdout",
     "output_type": "stream",
     "text": [
      "/home/edu/code/google_fast_or_slow/data/npz_all/npz/layout/nlp/random/train/small_bert_bert_en_uncased_L-4_H-768_A-12_batch_size_32_test.npz\n",
      "Pruning graph...\n",
      "Original graph has 1096 nodes and 1688 edges\n",
      "New graph has 183 nodes and 152 edges\n",
      "Removing 45 duplicated node configs out of 100040\n"
     ]
    },
    {
     "name": "stderr",
     "output_type": "stream",
     "text": [
      " 60%|██████    | 125/207 [24:56<15:11, 11.12s/it]"
     ]
    },
    {
     "name": "stdout",
     "output_type": "stream",
     "text": [
      "/home/edu/code/google_fast_or_slow/data/npz_all/npz/layout/nlp/random/train/small_bert_bert_en_uncased_L-8_H-128_A-2_batch_size_16_test.npz\n",
      "Pruning graph...\n",
      "Original graph has 1536 nodes and 2332 edges\n",
      "New graph has 291 nodes and 248 edges\n",
      "Removing 44 duplicated node configs out of 100040\n"
     ]
    },
    {
     "name": "stderr",
     "output_type": "stream",
     "text": [
      " 61%|██████    | 126/207 [25:15<18:31, 13.72s/it]"
     ]
    },
    {
     "name": "stdout",
     "output_type": "stream",
     "text": [
      "/home/edu/code/google_fast_or_slow/data/npz_all/npz/layout/nlp/random/train/small_bert_bert_en_uncased_L-12_H-128_A-2_batch_size_32_train.npz\n",
      "Pruning graph...\n",
      "Original graph has 10116 nodes and 16688 edges\n",
      "New graph has 1134 nodes and 1077 edges\n",
      "Removing 39 duplicated node configs out of 44240\n"
     ]
    },
    {
     "name": "stderr",
     "output_type": "stream",
     "text": [
      " 61%|██████▏   | 127/207 [25:21<15:00, 11.26s/it]"
     ]
    },
    {
     "name": "stdout",
     "output_type": "stream",
     "text": [
      "/home/edu/code/google_fast_or_slow/data/npz_all/npz/layout/nlp/random/train/electra_small_batch_size_16_train.npz\n",
      "Pruning graph...\n",
      "Original graph has 10232 nodes and 16857 edges\n",
      "New graph has 1139 nodes and 1083 edges\n",
      "Removing 39 duplicated node configs out of 35704\n"
     ]
    },
    {
     "name": "stderr",
     "output_type": "stream",
     "text": [
      " 62%|██████▏   | 128/207 [25:25<11:52,  9.02s/it]"
     ]
    },
    {
     "name": "stdout",
     "output_type": "stream",
     "text": [
      "/home/edu/code/google_fast_or_slow/data/npz_all/npz/layout/nlp/random/train/electra_small_batch_size_32_train.npz\n",
      "Pruning graph...\n",
      "Original graph has 10232 nodes and 16857 edges\n",
      "New graph has 1139 nodes and 1083 edges\n",
      "Removing 39 duplicated node configs out of 37008\n"
     ]
    },
    {
     "name": "stderr",
     "output_type": "stream",
     "text": [
      " 62%|██████▏   | 129/207 [25:29<09:47,  7.53s/it]"
     ]
    },
    {
     "name": "stdout",
     "output_type": "stream",
     "text": [
      "/home/edu/code/google_fast_or_slow/data/npz_all/npz/layout/nlp/random/train/experts_wiki_books_batch_size_16_test.npz\n",
      "Pruning graph...\n",
      "Original graph has 1976 nodes and 2976 edges\n",
      "New graph has 399 nodes and 344 edges\n",
      "Removing 47 duplicated node configs out of 100040\n"
     ]
    },
    {
     "name": "stderr",
     "output_type": "stream",
     "text": [
      " 63%|██████▎   | 130/207 [25:49<14:35, 11.37s/it]"
     ]
    },
    {
     "name": "stdout",
     "output_type": "stream",
     "text": [
      "/home/edu/code/google_fast_or_slow/data/npz_all/npz/layout/nlp/random/train/small_bert_bert_en_uncased_L-8_H-512_A-8_batch_size_32_train.npz\n",
      "Pruning graph...\n",
      "Original graph has 7284 nodes and 11996 edges\n",
      "New graph has 818 nodes and 769 edges\n",
      "Removing 39 duplicated node configs out of 42120\n"
     ]
    },
    {
     "name": "stderr",
     "output_type": "stream",
     "text": [
      " 63%|██████▎   | 131/207 [25:54<11:47,  9.30s/it]"
     ]
    },
    {
     "name": "stdout",
     "output_type": "stream",
     "text": [
      "/home/edu/code/google_fast_or_slow/data/npz_all/npz/layout/nlp/random/train/small_bert_bert_en_uncased_L-12_H-128_A-2_batch_size_32_test.npz\n",
      "Pruning graph...\n",
      "Original graph has 1976 nodes and 2976 edges\n",
      "New graph has 399 nodes and 344 edges\n",
      "Removing 41 duplicated node configs out of 100040\n"
     ]
    },
    {
     "name": "stderr",
     "output_type": "stream",
     "text": [
      " 64%|██████▍   | 132/207 [26:14<15:55, 12.74s/it]"
     ]
    },
    {
     "name": "stdout",
     "output_type": "stream",
     "text": [
      "/home/edu/code/google_fast_or_slow/data/npz_all/npz/layout/nlp/random/train/bert_en_wwm_cased_L-24_H-1024_A-16_batch_size_16_train.npz\n",
      "Pruning graph...\n",
      "Original graph has 18619 nodes and 30771 edges\n",
      "New graph has 2082 nodes and 2001 edges\n",
      "Removing 39 duplicated node configs out of 14392\n"
     ]
    },
    {
     "name": "stderr",
     "output_type": "stream",
     "text": [
      " 64%|██████▍   | 133/207 [26:16<11:34,  9.38s/it]"
     ]
    },
    {
     "name": "stdout",
     "output_type": "stream",
     "text": [
      "/home/edu/code/google_fast_or_slow/data/npz_all/npz/layout/nlp/random/train/albert_en_xlarge_batch_size_32_train.npz\n",
      "Pruning graph...\n",
      "Original graph has 8640 nodes and 14765 edges\n",
      "New graph has 1799 nodes and 1863 edges\n",
      "Removing 39 duplicated node configs out of 18632\n"
     ]
    },
    {
     "name": "stderr",
     "output_type": "stream",
     "text": [
      " 65%|██████▍   | 134/207 [26:18<08:44,  7.19s/it]"
     ]
    },
    {
     "name": "stdout",
     "output_type": "stream",
     "text": [
      "/home/edu/code/google_fast_or_slow/data/npz_all/npz/layout/nlp/random/train/small_bert_bert_en_uncased_L-8_H-128_A-2_batch_size_32_test.npz\n",
      "Pruning graph...\n",
      "Original graph has 1536 nodes and 2332 edges\n",
      "New graph has 291 nodes and 248 edges\n",
      "Removing 45 duplicated node configs out of 100040\n"
     ]
    },
    {
     "name": "stderr",
     "output_type": "stream",
     "text": [
      " 65%|██████▌   | 135/207 [26:38<13:09, 10.96s/it]"
     ]
    },
    {
     "name": "stdout",
     "output_type": "stream",
     "text": [
      "/home/edu/code/google_fast_or_slow/data/npz_all/npz/layout/nlp/random/train/experts_wiki_books_batch_size_16_train.npz\n",
      "Pruning graph...\n",
      "Original graph has 10124 nodes and 16696 edges\n",
      "New graph has 1134 nodes and 1077 edges\n",
      "Removing 39 duplicated node configs out of 27616\n"
     ]
    },
    {
     "name": "stderr",
     "output_type": "stream",
     "text": [
      " 66%|██████▌   | 136/207 [26:40<09:58,  8.43s/it]"
     ]
    },
    {
     "name": "stdout",
     "output_type": "stream",
     "text": [
      "/home/edu/code/google_fast_or_slow/data/npz_all/npz/layout/nlp/random/train/albert_en_xxlarge_batch_size_64_train.npz\n",
      "Pruning graph...\n",
      "Original graph has 5400 nodes and 9113 edges\n",
      "New graph has 995 nodes and 1011 edges\n",
      "Removing 39 duplicated node configs out of 18273\n"
     ]
    },
    {
     "name": "stderr",
     "output_type": "stream",
     "text": [
      " 66%|██████▌   | 137/207 [26:42<07:21,  6.31s/it]"
     ]
    },
    {
     "name": "stdout",
     "output_type": "stream",
     "text": [
      "/home/edu/code/google_fast_or_slow/data/npz_all/npz/layout/nlp/random/train/albert_en_large_batch_size_64_train.npz\n",
      "Pruning graph...\n",
      "Original graph has 8640 nodes and 14765 edges\n",
      "New graph has 1799 nodes and 1863 edges\n",
      "Removing 39 duplicated node configs out of 19280\n"
     ]
    },
    {
     "name": "stderr",
     "output_type": "stream",
     "text": [
      " 67%|██████▋   | 138/207 [26:44<05:48,  5.06s/it]"
     ]
    },
    {
     "name": "stdout",
     "output_type": "stream",
     "text": [
      "/home/edu/code/google_fast_or_slow/data/npz_all/npz/layout/nlp/random/train/bert_en_wwm_cased_L-24_H-1024_A-16_batch_size_16_test.npz\n",
      "Pruning graph...\n",
      "Original graph has 3296 nodes and 4908 edges\n",
      "New graph has 723 nodes and 632 edges\n",
      "Removing 43 duplicated node configs out of 69256\n"
     ]
    },
    {
     "name": "stderr",
     "output_type": "stream",
     "text": [
      " 67%|██████▋   | 139/207 [26:54<07:34,  6.68s/it]"
     ]
    },
    {
     "name": "stdout",
     "output_type": "stream",
     "text": [
      "/home/edu/code/google_fast_or_slow/data/npz_all/npz/layout/nlp/random/train/electra_large_batch_size_32_test.npz\n",
      "Pruning graph...\n",
      "Original graph has 3296 nodes and 4908 edges\n",
      "New graph has 723 nodes and 632 edges\n",
      "Removing 40 duplicated node configs out of 67592\n"
     ]
    },
    {
     "name": "stderr",
     "output_type": "stream",
     "text": [
      " 68%|██████▊   | 140/207 [27:04<08:33,  7.67s/it]"
     ]
    },
    {
     "name": "stdout",
     "output_type": "stream",
     "text": [
      "/home/edu/code/google_fast_or_slow/data/npz_all/npz/layout/nlp/random/train/small_bert_bert_en_uncased_L-2_H-512_A-8_batch_size_64_test.npz\n",
      "Pruning graph...\n",
      "Original graph has 876 nodes and 1366 edges\n",
      "New graph has 129 nodes and 104 edges\n"
     ]
    },
    {
     "name": "stderr",
     "output_type": "stream",
     "text": [
      " 68%|██████▊   | 141/207 [27:24<12:21, 11.23s/it]"
     ]
    },
    {
     "name": "stdout",
     "output_type": "stream",
     "text": [
      "Removing 42 duplicated node configs out of 100040\n",
      "/home/edu/code/google_fast_or_slow/data/npz_all/npz/layout/nlp/random/train/small_bert_bert_en_uncased_L-8_H-128_A-2_batch_size_16_train.npz\n",
      "Pruning graph...\n",
      "Original graph has 7284 nodes and 11996 edges\n",
      "New graph has 818 nodes and 769 edges\n",
      "Removing 39 duplicated node configs out of 70456\n"
     ]
    },
    {
     "name": "stderr",
     "output_type": "stream",
     "text": [
      " 69%|██████▊   | 142/207 [27:35<12:07, 11.20s/it]"
     ]
    },
    {
     "name": "stdout",
     "output_type": "stream",
     "text": [
      "/home/edu/code/google_fast_or_slow/data/npz_all/npz/layout/nlp/random/train/small_bert_bert_en_uncased_L-4_H-512_A-8_batch_size_64_train.npz\n",
      "Pruning graph...\n",
      "Original graph has 4453 nodes and 7305 edges\n",
      "New graph has 502 nodes and 461 edges\n",
      "Removing 39 duplicated node configs out of 57072\n"
     ]
    },
    {
     "name": "stderr",
     "output_type": "stream",
     "text": [
      " 69%|██████▉   | 143/207 [27:42<10:35,  9.93s/it]"
     ]
    },
    {
     "name": "stdout",
     "output_type": "stream",
     "text": [
      "/home/edu/code/google_fast_or_slow/data/npz_all/npz/layout/nlp/random/train/small_bert_bert_en_uncased_L-12_H-256_A-4_batch_size_64_test.npz\n",
      "Pruning graph...\n",
      "Original graph has 1976 nodes and 2976 edges\n",
      "New graph has 399 nodes and 344 edges\n",
      "Removing 40 duplicated node configs out of 100040\n"
     ]
    },
    {
     "name": "stderr",
     "output_type": "stream",
     "text": [
      " 70%|██████▉   | 144/207 [28:03<14:00, 13.34s/it]"
     ]
    },
    {
     "name": "stdout",
     "output_type": "stream",
     "text": [
      "/home/edu/code/google_fast_or_slow/data/npz_all/npz/layout/nlp/random/train/small_bert_bert_en_uncased_L-12_H-128_A-2_batch_size_64_test.npz\n",
      "Pruning graph...\n",
      "Original graph has 1976 nodes and 2976 edges\n",
      "New graph has 399 nodes and 344 edges\n",
      "Removing 46 duplicated node configs out of 100040\n"
     ]
    },
    {
     "name": "stderr",
     "output_type": "stream",
     "text": [
      " 70%|███████   | 145/207 [28:24<16:05, 15.58s/it]"
     ]
    },
    {
     "name": "stdout",
     "output_type": "stream",
     "text": [
      "/home/edu/code/google_fast_or_slow/data/npz_all/npz/layout/nlp/random/train/small_bert_bert_en_uncased_L-4_H-128_A-2_batch_size_16_train.npz\n",
      "Pruning graph...\n",
      "Original graph has 4452 nodes and 7304 edges\n",
      "New graph has 502 nodes and 461 edges\n",
      "Removing 39 duplicated node configs out of 100040\n"
     ]
    },
    {
     "name": "stderr",
     "output_type": "stream",
     "text": [
      " 71%|███████   | 146/207 [28:45<17:24, 17.11s/it]"
     ]
    },
    {
     "name": "stdout",
     "output_type": "stream",
     "text": [
      "/home/edu/code/google_fast_or_slow/data/npz_all/npz/layout/nlp/random/train/small_bert_bert_en_uncased_L-6_H-512_A-8_batch_size_16_test.npz\n",
      "Pruning graph...\n",
      "Original graph has 1316 nodes and 2010 edges\n",
      "New graph has 237 nodes and 200 edges\n",
      "Removing 45 duplicated node configs out of 100040\n"
     ]
    },
    {
     "name": "stderr",
     "output_type": "stream",
     "text": [
      " 71%|███████   | 147/207 [29:04<17:42, 17.72s/it]"
     ]
    },
    {
     "name": "stdout",
     "output_type": "stream",
     "text": [
      "/home/edu/code/google_fast_or_slow/data/npz_all/npz/layout/nlp/random/train/bert_en_cased_L-12_H-768_A-12_batch_size_16_train.npz\n",
      "Pruning graph...\n",
      "Original graph has 10124 nodes and 16696 edges\n",
      "New graph has 1134 nodes and 1077 edges\n",
      "Removing 39 duplicated node configs out of 27784\n"
     ]
    },
    {
     "name": "stderr",
     "output_type": "stream",
     "text": [
      " 71%|███████▏  | 148/207 [29:06<12:56, 13.16s/it]"
     ]
    },
    {
     "name": "stdout",
     "output_type": "stream",
     "text": [
      "/home/edu/code/google_fast_or_slow/data/npz_all/npz/layout/nlp/random/train/bert_en_uncased_L-12_H-768_A-12_batch_size_32_test.npz\n",
      "Pruning graph...\n",
      "Original graph has 1976 nodes and 2976 edges\n",
      "New graph has 399 nodes and 344 edges\n",
      "Removing 42 duplicated node configs out of 100040\n"
     ]
    },
    {
     "name": "stderr",
     "output_type": "stream",
     "text": [
      " 72%|███████▏  | 149/207 [29:26<14:34, 15.07s/it]"
     ]
    },
    {
     "name": "stdout",
     "output_type": "stream",
     "text": [
      "/home/edu/code/google_fast_or_slow/data/npz_all/npz/layout/nlp/random/train/small_bert_bert_en_uncased_L-4_H-512_A-8_batch_size_16_test.npz\n",
      "Pruning graph...\n",
      "Original graph has 1096 nodes and 1688 edges\n",
      "New graph has 183 nodes and 152 edges\n",
      "Removing 42 duplicated node configs out of 100040\n"
     ]
    },
    {
     "name": "stderr",
     "output_type": "stream",
     "text": [
      " 72%|███████▏  | 150/207 [29:45<15:25, 16.23s/it]"
     ]
    },
    {
     "name": "stdout",
     "output_type": "stream",
     "text": [
      "/home/edu/code/google_fast_or_slow/data/npz_all/npz/layout/nlp/random/train/small_bert_bert_en_uncased_L-10_H-512_A-8_batch_size_32_test.npz\n",
      "Pruning graph...\n",
      "Original graph has 1756 nodes and 2654 edges\n",
      "New graph has 345 nodes and 296 edges\n",
      "Removing 45 duplicated node configs out of 100040\n"
     ]
    },
    {
     "name": "stderr",
     "output_type": "stream",
     "text": [
      " 73%|███████▎  | 151/207 [30:04<16:03, 17.21s/it]"
     ]
    },
    {
     "name": "stdout",
     "output_type": "stream",
     "text": [
      "/home/edu/code/google_fast_or_slow/data/npz_all/npz/layout/nlp/random/train/small_bert_bert_en_uncased_L-2_H-128_A-2_batch_size_64_train.npz\n",
      "Pruning graph...\n",
      "Original graph has 3036 nodes and 4958 edges\n",
      "New graph has 344 nodes and 307 edges\n",
      "Removing 39 duplicated node configs out of 100040\n"
     ]
    },
    {
     "name": "stderr",
     "output_type": "stream",
     "text": [
      " 73%|███████▎  | 152/207 [30:24<16:28, 17.97s/it]"
     ]
    },
    {
     "name": "stdout",
     "output_type": "stream",
     "text": [
      "/home/edu/code/google_fast_or_slow/data/npz_all/npz/layout/nlp/random/train/small_bert_bert_en_uncased_L-12_H-512_A-8_batch_size_16_train.npz\n",
      "Pruning graph...\n",
      "Original graph has 10117 nodes and 16689 edges\n",
      "New graph has 1134 nodes and 1077 edges\n",
      "Removing 39 duplicated node configs out of 32784\n"
     ]
    },
    {
     "name": "stderr",
     "output_type": "stream",
     "text": [
      " 74%|███████▍  | 153/207 [30:27<12:13, 13.58s/it]"
     ]
    },
    {
     "name": "stdout",
     "output_type": "stream",
     "text": [
      "/home/edu/code/google_fast_or_slow/data/npz_all/npz/layout/nlp/random/train/bert_en_uncased_L-12_H-768_A-12_batch_size_16_test.npz\n",
      "Pruning graph...\n",
      "Original graph has 1976 nodes and 2976 edges\n",
      "New graph has 399 nodes and 344 edges\n",
      "Removing 42 duplicated node configs out of 100040\n"
     ]
    },
    {
     "name": "stderr",
     "output_type": "stream",
     "text": [
      " 74%|███████▍  | 154/207 [30:47<13:43, 15.54s/it]"
     ]
    },
    {
     "name": "stdout",
     "output_type": "stream",
     "text": [
      "/home/edu/code/google_fast_or_slow/data/npz_all/npz/layout/nlp/random/train/small_bert_bert_en_uncased_L-6_H-512_A-8_batch_size_16_train.npz\n",
      "Pruning graph...\n",
      "Original graph has 5869 nodes and 9651 edges\n",
      "New graph has 660 nodes and 615 edges\n",
      "Removing 39 duplicated node configs out of 55936\n"
     ]
    },
    {
     "name": "stderr",
     "output_type": "stream",
     "text": [
      " 75%|███████▍  | 155/207 [30:55<11:15, 12.99s/it]"
     ]
    },
    {
     "name": "stdout",
     "output_type": "stream",
     "text": [
      "/home/edu/code/google_fast_or_slow/data/npz_all/npz/layout/nlp/random/train/experts_pubmed_batch_size_64_train.npz\n",
      "Pruning graph...\n",
      "Original graph has 10124 nodes and 16696 edges\n",
      "New graph has 1134 nodes and 1077 edges\n",
      "Removing 39 duplicated node configs out of 25072\n"
     ]
    },
    {
     "name": "stderr",
     "output_type": "stream",
     "text": [
      " 75%|███████▌  | 156/207 [30:57<08:17,  9.75s/it]"
     ]
    },
    {
     "name": "stdout",
     "output_type": "stream",
     "text": [
      "/home/edu/code/google_fast_or_slow/data/npz_all/npz/layout/nlp/random/train/bert_en_cased_L-24_H-1024_A-16_batch_size_16_test.npz\n",
      "Pruning graph...\n",
      "Original graph has 3296 nodes and 4908 edges\n",
      "New graph has 723 nodes and 632 edges\n",
      "Removing 43 duplicated node configs out of 68384\n"
     ]
    },
    {
     "name": "stderr",
     "output_type": "stream",
     "text": [
      " 76%|███████▌  | 157/207 [31:07<08:14,  9.89s/it]"
     ]
    },
    {
     "name": "stdout",
     "output_type": "stream",
     "text": [
      "/home/edu/code/google_fast_or_slow/data/npz_all/npz/layout/nlp/random/train/small_bert_bert_en_uncased_L-8_H-768_A-12_batch_size_32_test.npz\n",
      "Pruning graph...\n",
      "Original graph has 1536 nodes and 2332 edges\n",
      "New graph has 291 nodes and 248 edges\n",
      "Removing 46 duplicated node configs out of 100040\n"
     ]
    },
    {
     "name": "stderr",
     "output_type": "stream",
     "text": [
      " 76%|███████▋  | 158/207 [31:27<10:36, 13.00s/it]"
     ]
    },
    {
     "name": "stdout",
     "output_type": "stream",
     "text": [
      "/home/edu/code/google_fast_or_slow/data/npz_all/npz/layout/nlp/random/train/small_bert_bert_en_uncased_L-10_H-768_A-12_batch_size_16_test.npz\n",
      "Pruning graph...\n",
      "Original graph has 1756 nodes and 2654 edges\n",
      "New graph has 345 nodes and 296 edges\n",
      "Removing 46 duplicated node configs out of 100040\n"
     ]
    },
    {
     "name": "stderr",
     "output_type": "stream",
     "text": [
      " 77%|███████▋  | 159/207 [31:47<11:58, 14.98s/it]"
     ]
    },
    {
     "name": "stdout",
     "output_type": "stream",
     "text": [
      "/home/edu/code/google_fast_or_slow/data/npz_all/npz/layout/nlp/random/train/albert_en_xxlarge_batch_size_32_test.npz\n",
      "Pruning graph...\n",
      "Original graph has 1696 nodes and 2697 edges\n",
      "New graph has 336 nodes and 347 edges\n",
      "Removing 41 duplicated node configs out of 59264\n"
     ]
    },
    {
     "name": "stderr",
     "output_type": "stream",
     "text": [
      " 77%|███████▋  | 160/207 [31:54<09:54, 12.65s/it]"
     ]
    },
    {
     "name": "stdout",
     "output_type": "stream",
     "text": [
      "/home/edu/code/google_fast_or_slow/data/npz_all/npz/layout/nlp/random/train/bert_en_uncased_L-12_H-768_A-12_batch_size_16_train.npz\n",
      "Pruning graph...\n",
      "Original graph has 10124 nodes and 16696 edges\n",
      "New graph has 1134 nodes and 1077 edges\n",
      "Removing 39 duplicated node configs out of 28320\n"
     ]
    },
    {
     "name": "stderr",
     "output_type": "stream",
     "text": [
      " 78%|███████▊  | 161/207 [31:57<07:23,  9.64s/it]"
     ]
    },
    {
     "name": "stdout",
     "output_type": "stream",
     "text": [
      "/home/edu/code/google_fast_or_slow/data/npz_all/npz/layout/nlp/random/train/talking-heads_large_batch_size_16_test.npz\n",
      "Pruning graph...\n",
      "Original graph has 3584 nodes and 5316 edges\n",
      "New graph has 939 nodes and 848 edges\n",
      "Removing 39 duplicated node configs out of 51928\n"
     ]
    },
    {
     "name": "stderr",
     "output_type": "stream",
     "text": [
      " 78%|███████▊  | 162/207 [32:03<06:34,  8.76s/it]"
     ]
    },
    {
     "name": "stdout",
     "output_type": "stream",
     "text": [
      "/home/edu/code/google_fast_or_slow/data/npz_all/npz/layout/nlp/random/train/small_bert_bert_en_uncased_L-2_H-768_A-12_batch_size_16_train.npz\n",
      "Pruning graph...\n",
      "Original graph has 3044 nodes and 4966 edges\n",
      "New graph has 344 nodes and 307 edges\n",
      "Removing 39 duplicated node configs out of 70680\n"
     ]
    },
    {
     "name": "stderr",
     "output_type": "stream",
     "text": [
      " 79%|███████▊  | 163/207 [32:13<06:41,  9.12s/it]"
     ]
    },
    {
     "name": "stdout",
     "output_type": "stream",
     "text": [
      "/home/edu/code/google_fast_or_slow/data/npz_all/npz/layout/nlp/random/train/albert_en_xxlarge_batch_size_64_test.npz\n",
      "Pruning graph...\n",
      "Original graph has 1696 nodes and 2697 edges\n",
      "New graph has 336 nodes and 347 edges\n",
      "Removing 39 duplicated node configs out of 49320\n"
     ]
    },
    {
     "name": "stderr",
     "output_type": "stream",
     "text": [
      " 79%|███████▉  | 164/207 [32:18<05:40,  7.92s/it]"
     ]
    },
    {
     "name": "stdout",
     "output_type": "stream",
     "text": [
      "/home/edu/code/google_fast_or_slow/data/npz_all/npz/layout/nlp/random/train/small_bert_bert_en_uncased_L-8_H-256_A-4_batch_size_32_train.npz\n",
      "Pruning graph...\n",
      "Original graph has 7292 nodes and 12004 edges\n",
      "New graph has 818 nodes and 769 edges\n",
      "Removing 39 duplicated node configs out of 55176\n"
     ]
    },
    {
     "name": "stderr",
     "output_type": "stream",
     "text": [
      " 80%|███████▉  | 165/207 [32:26<05:24,  7.71s/it]"
     ]
    },
    {
     "name": "stdout",
     "output_type": "stream",
     "text": [
      "/home/edu/code/google_fast_or_slow/data/npz_all/npz/layout/nlp/random/train/small_bert_bert_en_uncased_L-4_H-256_A-4_batch_size_64_test.npz\n",
      "Pruning graph...\n",
      "Original graph has 1096 nodes and 1688 edges\n",
      "New graph has 183 nodes and 152 edges\n",
      "Removing 41 duplicated node configs out of 100040\n"
     ]
    },
    {
     "name": "stderr",
     "output_type": "stream",
     "text": [
      " 80%|████████  | 166/207 [32:46<07:48, 11.42s/it]"
     ]
    },
    {
     "name": "stdout",
     "output_type": "stream",
     "text": [
      "/home/edu/code/google_fast_or_slow/data/npz_all/npz/layout/nlp/random/train/small_bert_bert_en_uncased_L-12_H-512_A-8_batch_size_32_test.npz\n",
      "Pruning graph...\n",
      "Original graph has 1976 nodes and 2976 edges\n",
      "New graph has 399 nodes and 344 edges\n",
      "Removing 42 duplicated node configs out of 100040\n"
     ]
    },
    {
     "name": "stderr",
     "output_type": "stream",
     "text": [
      " 81%|████████  | 167/207 [33:07<09:36, 14.41s/it]"
     ]
    },
    {
     "name": "stdout",
     "output_type": "stream",
     "text": [
      "/home/edu/code/google_fast_or_slow/data/npz_all/npz/layout/nlp/random/train/albert_en_large_batch_size_16_train.npz\n",
      "Pruning graph...\n",
      "Original graph has 8640 nodes and 14765 edges\n",
      "New graph has 1799 nodes and 1863 edges\n",
      "Removing 39 duplicated node configs out of 21432\n"
     ]
    },
    {
     "name": "stderr",
     "output_type": "stream",
     "text": [
      " 81%|████████  | 168/207 [33:10<07:02, 10.82s/it]"
     ]
    },
    {
     "name": "stdout",
     "output_type": "stream",
     "text": [
      "/home/edu/code/google_fast_or_slow/data/npz_all/npz/layout/nlp/random/train/bert_en_cased_L-12_H-768_A-12_batch_size_64_test.npz\n",
      "Pruning graph...\n",
      "Original graph has 1976 nodes and 2976 edges\n",
      "New graph has 399 nodes and 344 edges\n",
      "Removing 40 duplicated node configs out of 100040\n"
     ]
    },
    {
     "name": "stderr",
     "output_type": "stream",
     "text": [
      " 82%|████████▏ | 169/207 [33:30<08:42, 13.76s/it]"
     ]
    },
    {
     "name": "stdout",
     "output_type": "stream",
     "text": [
      "/home/edu/code/google_fast_or_slow/data/npz_all/npz/layout/nlp/random/train/experts_wiki_books_batch_size_64_train.npz\n",
      "Pruning graph...\n",
      "Original graph has 10124 nodes and 16696 edges\n",
      "New graph has 1134 nodes and 1077 edges\n",
      "Removing 39 duplicated node configs out of 24800\n"
     ]
    },
    {
     "name": "stderr",
     "output_type": "stream",
     "text": [
      " 82%|████████▏ | 170/207 [33:32<06:20, 10.27s/it]"
     ]
    },
    {
     "name": "stdout",
     "output_type": "stream",
     "text": [
      "/home/edu/code/google_fast_or_slow/data/npz_all/npz/layout/nlp/random/train/small_bert_bert_en_uncased_L-10_H-256_A-4_batch_size_16_test.npz\n",
      "Pruning graph...\n",
      "Original graph has 1756 nodes and 2654 edges\n",
      "New graph has 345 nodes and 296 edges\n",
      "Removing 42 duplicated node configs out of 100040\n"
     ]
    },
    {
     "name": "stderr",
     "output_type": "stream",
     "text": [
      " 83%|████████▎ | 171/207 [33:52<07:52, 13.13s/it]"
     ]
    },
    {
     "name": "stdout",
     "output_type": "stream",
     "text": [
      "/home/edu/code/google_fast_or_slow/data/npz_all/npz/layout/nlp/random/train/bert_en_wwm_uncased_L-24_H-1024_A-16_batch_size_64_train.npz\n",
      "Pruning graph...\n",
      "Original graph has 18619 nodes and 30771 edges\n",
      "New graph has 2082 nodes and 2001 edges\n",
      "Removing 39 duplicated node configs out of 13112\n"
     ]
    },
    {
     "name": "stderr",
     "output_type": "stream",
     "text": [
      " 83%|████████▎ | 172/207 [33:53<05:35,  9.59s/it]"
     ]
    },
    {
     "name": "stdout",
     "output_type": "stream",
     "text": [
      "/home/edu/code/google_fast_or_slow/data/npz_all/npz/layout/nlp/random/train/albert_en_xxlarge_batch_size_32_train.npz\n",
      "Pruning graph...\n",
      "Original graph has 5400 nodes and 9113 edges\n",
      "New graph has 995 nodes and 1011 edges\n",
      "Removing 39 duplicated node configs out of 22368\n"
     ]
    },
    {
     "name": "stderr",
     "output_type": "stream",
     "text": [
      " 84%|████████▎ | 173/207 [33:55<04:07,  7.27s/it]"
     ]
    },
    {
     "name": "stdout",
     "output_type": "stream",
     "text": [
      "/home/edu/code/google_fast_or_slow/data/npz_all/npz/layout/nlp/random/train/small_bert_bert_en_uncased_L-4_H-256_A-4_batch_size_32_test.npz\n",
      "Pruning graph...\n",
      "Original graph has 1096 nodes and 1688 edges\n",
      "New graph has 183 nodes and 152 edges\n",
      "Removing 45 duplicated node configs out of 100040\n"
     ]
    },
    {
     "name": "stderr",
     "output_type": "stream",
     "text": [
      " 84%|████████▍ | 174/207 [34:14<05:55, 10.78s/it]"
     ]
    },
    {
     "name": "stdout",
     "output_type": "stream",
     "text": [
      "/home/edu/code/google_fast_or_slow/data/npz_all/npz/layout/nlp/random/train/small_bert_bert_en_uncased_L-12_H-768_A-12_batch_size_32_test.npz\n",
      "Pruning graph...\n",
      "Original graph has 1976 nodes and 2976 edges\n",
      "New graph has 399 nodes and 344 edges\n",
      "Removing 44 duplicated node configs out of 100040\n"
     ]
    },
    {
     "name": "stderr",
     "output_type": "stream",
     "text": [
      " 85%|████████▍ | 175/207 [34:34<07:13, 13.55s/it]"
     ]
    },
    {
     "name": "stdout",
     "output_type": "stream",
     "text": [
      "/home/edu/code/google_fast_or_slow/data/npz_all/npz/layout/nlp/random/train/small_bert_bert_en_uncased_L-4_H-768_A-12_batch_size_32_train.npz\n",
      "Pruning graph...\n",
      "Original graph has 4460 nodes and 7312 edges\n",
      "New graph has 502 nodes and 461 edges\n",
      "Removing 39 duplicated node configs out of 52488\n"
     ]
    },
    {
     "name": "stderr",
     "output_type": "stream",
     "text": [
      " 85%|████████▌ | 176/207 [34:40<05:49, 11.28s/it]"
     ]
    },
    {
     "name": "stdout",
     "output_type": "stream",
     "text": [
      "/home/edu/code/google_fast_or_slow/data/npz_all/npz/layout/nlp/random/train/small_bert_bert_en_uncased_L-8_H-128_A-2_batch_size_64_train.npz\n",
      "Pruning graph...\n",
      "Original graph has 7284 nodes and 11996 edges\n",
      "New graph has 818 nodes and 769 edges\n",
      "Removing 39 duplicated node configs out of 61536\n"
     ]
    },
    {
     "name": "stderr",
     "output_type": "stream",
     "text": [
      " 86%|████████▌ | 177/207 [34:49<05:16, 10.54s/it]"
     ]
    },
    {
     "name": "stdout",
     "output_type": "stream",
     "text": [
      "/home/edu/code/google_fast_or_slow/data/npz_all/npz/layout/nlp/random/train/albert_en_base_batch_size_32_test.npz\n",
      "Pruning graph...\n",
      "Original graph has 1696 nodes and 2697 edges\n",
      "New graph has 336 nodes and 347 edges\n",
      "Removing 42 duplicated node configs out of 100040\n"
     ]
    },
    {
     "name": "stderr",
     "output_type": "stream",
     "text": [
      " 86%|████████▌ | 178/207 [35:09<06:29, 13.45s/it]"
     ]
    },
    {
     "name": "stdout",
     "output_type": "stream",
     "text": [
      "/home/edu/code/google_fast_or_slow/data/npz_all/npz/layout/nlp/random/train/electra_small_batch_size_64_test.npz\n",
      "Pruning graph...\n",
      "Original graph has 1982 nodes and 2983 edges\n",
      "New graph has 402 nodes and 347 edges\n",
      "Removing 44 duplicated node configs out of 100040\n"
     ]
    },
    {
     "name": "stderr",
     "output_type": "stream",
     "text": [
      " 86%|████████▋ | 179/207 [35:29<07:08, 15.30s/it]"
     ]
    },
    {
     "name": "stdout",
     "output_type": "stream",
     "text": [
      "/home/edu/code/google_fast_or_slow/data/npz_all/npz/layout/nlp/random/train/small_bert_bert_en_uncased_L-2_H-512_A-8_batch_size_16_train.npz\n",
      "Pruning graph...\n",
      "Original graph has 3037 nodes and 4959 edges\n",
      "New graph has 344 nodes and 307 edges\n",
      "Removing 39 duplicated node configs out of 92976\n"
     ]
    },
    {
     "name": "stderr",
     "output_type": "stream",
     "text": [
      " 87%|████████▋ | 180/207 [35:46<07:06, 15.80s/it]"
     ]
    },
    {
     "name": "stdout",
     "output_type": "stream",
     "text": [
      "/home/edu/code/google_fast_or_slow/data/npz_all/npz/layout/nlp/random/train/electra_base_batch_size_32_train.npz\n",
      "Pruning graph...\n",
      "Original graph has 10124 nodes and 16696 edges\n",
      "New graph has 1134 nodes and 1077 edges\n",
      "Removing 39 duplicated node configs out of 25560\n"
     ]
    },
    {
     "name": "stderr",
     "output_type": "stream",
     "text": [
      " 87%|████████▋ | 181/207 [35:48<05:04, 11.73s/it]"
     ]
    },
    {
     "name": "stdout",
     "output_type": "stream",
     "text": [
      "/home/edu/code/google_fast_or_slow/data/npz_all/npz/layout/nlp/random/train/small_bert_bert_en_uncased_L-12_H-256_A-4_batch_size_64_train.npz\n",
      "Pruning graph...\n",
      "Original graph has 10124 nodes and 16696 edges\n",
      "New graph has 1134 nodes and 1077 edges\n",
      "Removing 39 duplicated node configs out of 35128\n"
     ]
    },
    {
     "name": "stderr",
     "output_type": "stream",
     "text": [
      " 88%|████████▊ | 182/207 [35:52<03:52,  9.32s/it]"
     ]
    },
    {
     "name": "stdout",
     "output_type": "stream",
     "text": [
      "/home/edu/code/google_fast_or_slow/data/npz_all/npz/layout/nlp/random/train/bert_en_cased_L-24_H-1024_A-16_batch_size_64_train.npz\n",
      "Pruning graph...\n",
      "Original graph has 18619 nodes and 30771 edges\n",
      "New graph has 2082 nodes and 2001 edges\n",
      "Removing 39 duplicated node configs out of 13136\n"
     ]
    },
    {
     "name": "stderr",
     "output_type": "stream",
     "text": [
      " 88%|████████▊ | 183/207 [35:53<02:45,  6.92s/it]"
     ]
    },
    {
     "name": "stdout",
     "output_type": "stream",
     "text": [
      "/home/edu/code/google_fast_or_slow/data/npz_all/npz/layout/nlp/random/train/talking-heads_base_batch_size_32_train.npz\n",
      "Pruning graph...\n",
      "Original graph has 11779 nodes and 19455 edges\n",
      "New graph has 1518 nodes and 1449 edges\n",
      "Removing 39 duplicated node configs out of 21352\n"
     ]
    },
    {
     "name": "stderr",
     "output_type": "stream",
     "text": [
      " 89%|████████▉ | 184/207 [35:55<02:05,  5.44s/it]"
     ]
    },
    {
     "name": "stdout",
     "output_type": "stream",
     "text": [
      "/home/edu/code/google_fast_or_slow/data/npz_all/npz/layout/nlp/random/train/small_bert_bert_en_uncased_L-6_H-128_A-2_batch_size_64_train.npz\n",
      "Pruning graph...\n",
      "Original graph has 5868 nodes and 9650 edges\n",
      "New graph has 660 nodes and 615 edges\n",
      "Removing 39 duplicated node configs out of 77616\n"
     ]
    },
    {
     "name": "stderr",
     "output_type": "stream",
     "text": [
      " 89%|████████▉ | 185/207 [36:08<02:48,  7.67s/it]"
     ]
    },
    {
     "name": "stdout",
     "output_type": "stream",
     "text": [
      "/home/edu/code/google_fast_or_slow/data/npz_all/npz/layout/nlp/random/train/small_bert_bert_en_uncased_L-4_H-768_A-12_batch_size_64_train.npz\n",
      "Pruning graph...\n",
      "Original graph has 4460 nodes and 7312 edges\n",
      "New graph has 502 nodes and 461 edges\n",
      "Removing 39 duplicated node configs out of 47632\n"
     ]
    },
    {
     "name": "stderr",
     "output_type": "stream",
     "text": [
      " 90%|████████▉ | 186/207 [36:13<02:24,  6.88s/it]"
     ]
    },
    {
     "name": "stdout",
     "output_type": "stream",
     "text": [
      "/home/edu/code/google_fast_or_slow/data/npz_all/npz/layout/nlp/random/train/bert_en_wwm_uncased_L-24_H-1024_A-16_batch_size_16_train.npz\n",
      "Pruning graph...\n",
      "Original graph has 18619 nodes and 30771 edges\n",
      "New graph has 2082 nodes and 2001 edges\n",
      "Removing 39 duplicated node configs out of 14096\n"
     ]
    },
    {
     "name": "stderr",
     "output_type": "stream",
     "text": [
      " 90%|█████████ | 187/207 [36:14<01:44,  5.25s/it]"
     ]
    },
    {
     "name": "stdout",
     "output_type": "stream",
     "text": [
      "/home/edu/code/google_fast_or_slow/data/npz_all/npz/layout/nlp/random/train/small_bert_bert_en_uncased_L-10_H-768_A-12_batch_size_64_train.npz\n",
      "Pruning graph...\n",
      "Original graph has 8708 nodes and 14350 edges\n",
      "New graph has 976 nodes and 923 edges\n",
      "Removing 39 duplicated node configs out of 28304\n"
     ]
    },
    {
     "name": "stderr",
     "output_type": "stream",
     "text": [
      " 91%|█████████ | 188/207 [36:17<01:23,  4.42s/it]"
     ]
    },
    {
     "name": "stdout",
     "output_type": "stream",
     "text": [
      "/home/edu/code/google_fast_or_slow/data/npz_all/npz/layout/nlp/random/train/albert_en_large_batch_size_32_train.npz\n",
      "Pruning graph...\n",
      "Original graph has 8640 nodes and 14765 edges\n",
      "New graph has 1799 nodes and 1863 edges\n",
      "Removing 39 duplicated node configs out of 20968\n"
     ]
    },
    {
     "name": "stderr",
     "output_type": "stream",
     "text": [
      " 91%|█████████▏| 189/207 [36:19<01:08,  3.80s/it]"
     ]
    },
    {
     "name": "stdout",
     "output_type": "stream",
     "text": [
      "/home/edu/code/google_fast_or_slow/data/npz_all/npz/layout/nlp/random/train/small_bert_bert_en_uncased_L-10_H-512_A-8_batch_size_64_train.npz\n",
      "Pruning graph...\n",
      "Original graph has 8701 nodes and 14343 edges\n",
      "New graph has 976 nodes and 923 edges\n",
      "Removing 39 duplicated node configs out of 32160\n"
     ]
    },
    {
     "name": "stderr",
     "output_type": "stream",
     "text": [
      " 92%|█████████▏| 190/207 [36:22<01:00,  3.57s/it]"
     ]
    },
    {
     "name": "stdout",
     "output_type": "stream",
     "text": [
      "/home/edu/code/google_fast_or_slow/data/npz_all/npz/layout/nlp/random/train/bert_en_uncased_L-12_H-768_A-12_batch_size_32_train.npz\n",
      "Pruning graph...\n",
      "Original graph has 10124 nodes and 16696 edges\n",
      "New graph has 1134 nodes and 1077 edges\n",
      "Removing 39 duplicated node configs out of 26384\n"
     ]
    },
    {
     "name": "stderr",
     "output_type": "stream",
     "text": [
      " 92%|█████████▏| 191/207 [36:25<00:51,  3.20s/it]"
     ]
    },
    {
     "name": "stdout",
     "output_type": "stream",
     "text": [
      "/home/edu/code/google_fast_or_slow/data/npz_all/npz/layout/nlp/random/train/bert_en_cased_L-24_H-1024_A-16_batch_size_64_test.npz\n",
      "Pruning graph...\n",
      "Original graph has 3296 nodes and 4908 edges\n",
      "New graph has 723 nodes and 632 edges\n",
      "Removing 42 duplicated node configs out of 66464\n"
     ]
    },
    {
     "name": "stderr",
     "output_type": "stream",
     "text": [
      " 93%|█████████▎| 192/207 [36:34<01:17,  5.14s/it]"
     ]
    },
    {
     "name": "stdout",
     "output_type": "stream",
     "text": [
      "/home/edu/code/google_fast_or_slow/data/npz_all/npz/layout/nlp/random/train/small_bert_bert_en_uncased_L-6_H-512_A-8_batch_size_64_train.npz\n",
      "Pruning graph...\n",
      "Original graph has 5869 nodes and 9651 edges\n",
      "New graph has 660 nodes and 615 edges\n",
      "Removing 39 duplicated node configs out of 46368\n"
     ]
    },
    {
     "name": "stderr",
     "output_type": "stream",
     "text": [
      " 93%|█████████▎| 193/207 [36:39<01:11,  5.11s/it]"
     ]
    },
    {
     "name": "stdout",
     "output_type": "stream",
     "text": [
      "/home/edu/code/google_fast_or_slow/data/npz_all/npz/layout/nlp/random/train/small_bert_bert_en_uncased_L-8_H-768_A-12_batch_size_16_train.npz\n",
      "Pruning graph...\n",
      "Original graph has 7292 nodes and 12004 edges\n",
      "New graph has 818 nodes and 769 edges\n",
      "Removing 39 duplicated node configs out of 37384\n"
     ]
    },
    {
     "name": "stderr",
     "output_type": "stream",
     "text": [
      " 94%|█████████▎| 194/207 [36:43<01:00,  4.68s/it]"
     ]
    },
    {
     "name": "stdout",
     "output_type": "stream",
     "text": [
      "/home/edu/code/google_fast_or_slow/data/npz_all/npz/layout/nlp/random/train/small_bert_bert_en_uncased_L-6_H-128_A-2_batch_size_64_test.npz\n",
      "Pruning graph...\n",
      "Original graph has 1316 nodes and 2010 edges\n",
      "New graph has 237 nodes and 200 edges\n",
      "Removing 44 duplicated node configs out of 100040\n"
     ]
    },
    {
     "name": "stderr",
     "output_type": "stream",
     "text": [
      " 94%|█████████▍| 195/207 [37:07<02:05, 10.42s/it]"
     ]
    },
    {
     "name": "stdout",
     "output_type": "stream",
     "text": [
      "/home/edu/code/google_fast_or_slow/data/npz_all/npz/layout/nlp/random/train/small_bert_bert_en_uncased_L-12_H-768_A-12_batch_size_32_train.npz\n",
      "Pruning graph...\n",
      "Original graph has 10124 nodes and 16696 edges\n",
      "New graph has 1134 nodes and 1077 edges\n",
      "Removing 39 duplicated node configs out of 26248\n"
     ]
    },
    {
     "name": "stderr",
     "output_type": "stream",
     "text": [
      " 95%|█████████▍| 196/207 [37:09<01:27,  8.00s/it]"
     ]
    },
    {
     "name": "stdout",
     "output_type": "stream",
     "text": [
      "/home/edu/code/google_fast_or_slow/data/npz_all/npz/layout/nlp/random/train/bert_multi_cased_L-12_H-768_A-12_batch_size_32_train.npz\n",
      "Pruning graph...\n",
      "Original graph has 10124 nodes and 16696 edges\n",
      "New graph has 1134 nodes and 1077 edges\n",
      "Removing 39 duplicated node configs out of 26320\n"
     ]
    },
    {
     "name": "stderr",
     "output_type": "stream",
     "text": [
      " 95%|█████████▌| 197/207 [37:12<01:03,  6.30s/it]"
     ]
    },
    {
     "name": "stdout",
     "output_type": "stream",
     "text": [
      "/home/edu/code/google_fast_or_slow/data/npz_all/npz/layout/nlp/random/train/small_bert_bert_en_uncased_L-4_H-512_A-8_batch_size_64_test.npz\n",
      "Pruning graph...\n",
      "Original graph has 1096 nodes and 1688 edges\n",
      "New graph has 183 nodes and 152 edges\n",
      "Removing 42 duplicated node configs out of 100040\n"
     ]
    },
    {
     "name": "stderr",
     "output_type": "stream",
     "text": [
      " 96%|█████████▌| 198/207 [37:31<01:33, 10.36s/it]"
     ]
    },
    {
     "name": "stdout",
     "output_type": "stream",
     "text": [
      "/home/edu/code/google_fast_or_slow/data/npz_all/npz/layout/nlp/random/train/bert_en_wwm_uncased_L-24_H-1024_A-16_batch_size_32_train.npz\n",
      "Pruning graph...\n",
      "Original graph has 18620 nodes and 30772 edges\n",
      "New graph has 2082 nodes and 2001 edges\n",
      "Removing 39 duplicated node configs out of 13976\n"
     ]
    },
    {
     "name": "stderr",
     "output_type": "stream",
     "text": [
      " 96%|█████████▌| 199/207 [37:33<01:01,  7.68s/it]"
     ]
    },
    {
     "name": "stdout",
     "output_type": "stream",
     "text": [
      "/home/edu/code/google_fast_or_slow/data/npz_all/npz/layout/nlp/random/train/bert_multi_cased_L-12_H-768_A-12_batch_size_32_test.npz\n",
      "Pruning graph...\n",
      "Original graph has 1976 nodes and 2976 edges\n",
      "New graph has 399 nodes and 344 edges\n",
      "Removing 40 duplicated node configs out of 100040\n"
     ]
    },
    {
     "name": "stderr",
     "output_type": "stream",
     "text": [
      " 97%|█████████▋| 200/207 [37:53<01:19, 11.39s/it]"
     ]
    },
    {
     "name": "stdout",
     "output_type": "stream",
     "text": [
      "/home/edu/code/google_fast_or_slow/data/npz_all/npz/layout/nlp/random/train/albert_en_base_batch_size_16_train.npz\n",
      "Pruning graph...\n",
      "Original graph has 5400 nodes and 9113 edges\n",
      "New graph has 995 nodes and 1011 edges\n",
      "Removing 39 duplicated node configs out of 37768\n"
     ]
    },
    {
     "name": "stderr",
     "output_type": "stream",
     "text": [
      " 97%|█████████▋| 201/207 [37:57<00:55,  9.23s/it]"
     ]
    },
    {
     "name": "stdout",
     "output_type": "stream",
     "text": [
      "/home/edu/code/google_fast_or_slow/data/npz_all/npz/layout/nlp/random/train/small_bert_bert_en_uncased_L-6_H-256_A-4_batch_size_32_train.npz\n",
      "Pruning graph...\n",
      "Original graph has 5876 nodes and 9658 edges\n",
      "New graph has 660 nodes and 615 edges\n",
      "Removing 39 duplicated node configs out of 68400\n"
     ]
    },
    {
     "name": "stderr",
     "output_type": "stream",
     "text": [
      " 98%|█████████▊| 202/207 [38:07<00:47,  9.50s/it]"
     ]
    },
    {
     "name": "stdout",
     "output_type": "stream",
     "text": [
      "/home/edu/code/google_fast_or_slow/data/npz_all/npz/layout/nlp/random/train/talking-heads_base_batch_size_64_train.npz\n",
      "Pruning graph...\n",
      "Original graph has 11779 nodes and 19455 edges\n",
      "New graph has 1518 nodes and 1449 edges\n",
      "Removing 39 duplicated node configs out of 19720\n"
     ]
    },
    {
     "name": "stderr",
     "output_type": "stream",
     "text": [
      " 98%|█████████▊| 203/207 [38:09<00:28,  7.19s/it]"
     ]
    },
    {
     "name": "stdout",
     "output_type": "stream",
     "text": [
      "/home/edu/code/google_fast_or_slow/data/npz_all/npz/layout/nlp/random/train/small_bert_bert_en_uncased_L-8_H-256_A-4_batch_size_16_train.npz\n",
      "Pruning graph...\n",
      "Original graph has 7291 nodes and 12003 edges\n",
      "New graph has 818 nodes and 769 edges\n",
      "Removing 39 duplicated node configs out of 61392\n"
     ]
    },
    {
     "name": "stderr",
     "output_type": "stream",
     "text": [
      " 99%|█████████▊| 204/207 [38:18<00:22,  7.63s/it]"
     ]
    },
    {
     "name": "stdout",
     "output_type": "stream",
     "text": [
      "/home/edu/code/google_fast_or_slow/data/npz_all/npz/layout/nlp/random/train/small_bert_bert_en_uncased_L-12_H-128_A-2_batch_size_64_train.npz\n",
      "Pruning graph...\n",
      "Original graph has 10116 nodes and 16688 edges\n",
      "New graph has 1134 nodes and 1077 edges\n",
      "Removing 39 duplicated node configs out of 42480\n"
     ]
    },
    {
     "name": "stderr",
     "output_type": "stream",
     "text": [
      " 99%|█████████▉| 205/207 [38:23<00:13,  6.85s/it]"
     ]
    },
    {
     "name": "stdout",
     "output_type": "stream",
     "text": [
      "/home/edu/code/google_fast_or_slow/data/npz_all/npz/layout/nlp/random/train/small_bert_bert_en_uncased_L-6_H-768_A-12_batch_size_64_train.npz\n",
      "Pruning graph...\n",
      "Original graph has 5876 nodes and 9658 edges\n",
      "New graph has 660 nodes and 615 edges\n",
      "Removing 39 duplicated node configs out of 39320\n"
     ]
    },
    {
     "name": "stderr",
     "output_type": "stream",
     "text": [
      "100%|█████████▉| 206/207 [38:26<00:05,  5.93s/it]"
     ]
    },
    {
     "name": "stdout",
     "output_type": "stream",
     "text": [
      "/home/edu/code/google_fast_or_slow/data/npz_all/npz/layout/nlp/random/train/talking-heads_base_batch_size_16_test.npz\n",
      "Pruning graph...\n",
      "Original graph has 2120 nodes and 3180 edges\n",
      "New graph has 507 nodes and 452 edges\n",
      "Removing 40 duplicated node configs out of 87832\n"
     ]
    },
    {
     "name": "stderr",
     "output_type": "stream",
     "text": [
      "100%|██████████| 207/207 [38:42<00:00, 11.22s/it]\n"
     ]
    },
    {
     "name": "stdout",
     "output_type": "stream",
     "text": [
      "Loading valid data...\n"
     ]
    },
    {
     "name": "stderr",
     "output_type": "stream",
     "text": [
      "  0%|          | 0/20 [00:00<?, ?it/s]"
     ]
    },
    {
     "name": "stdout",
     "output_type": "stream",
     "text": [
      "/home/edu/code/google_fast_or_slow/data/npz_all/npz/layout/nlp/random/valid/small_bert_bert_en_uncased_L-10_H-128_A-2_batch_size_32_test.npz\n",
      "Pruning graph...\n",
      "Original graph has 1756 nodes and 2654 edges\n",
      "New graph has 345 nodes and 296 edges\n"
     ]
    },
    {
     "name": "stderr",
     "output_type": "stream",
     "text": [
      "  5%|▌         | 1/20 [00:00<00:15,  1.26it/s]"
     ]
    },
    {
     "name": "stdout",
     "output_type": "stream",
     "text": [
      "/home/edu/code/google_fast_or_slow/data/npz_all/npz/layout/nlp/random/valid/small_bert_bert_en_uncased_L-10_H-256_A-4_batch_size_32_test.npz\n",
      "Pruning graph...\n",
      "Original graph has 1756 nodes and 2654 edges\n",
      "New graph has 345 nodes and 296 edges\n"
     ]
    },
    {
     "name": "stderr",
     "output_type": "stream",
     "text": [
      " 10%|█         | 2/20 [00:01<00:14,  1.26it/s]"
     ]
    },
    {
     "name": "stdout",
     "output_type": "stream",
     "text": [
      "/home/edu/code/google_fast_or_slow/data/npz_all/npz/layout/nlp/random/valid/small_bert_bert_en_uncased_L-6_H-768_A-12_batch_size_32_train.npz\n",
      "Pruning graph...\n",
      "Original graph has 5876 nodes and 9658 edges\n",
      "New graph has 660 nodes and 615 edges\n"
     ]
    },
    {
     "name": "stderr",
     "output_type": "stream",
     "text": [
      " 15%|█▌        | 3/20 [00:02<00:12,  1.36it/s]"
     ]
    },
    {
     "name": "stdout",
     "output_type": "stream",
     "text": [
      "/home/edu/code/google_fast_or_slow/data/npz_all/npz/layout/nlp/random/valid/small_bert_bert_en_uncased_L-6_H-256_A-4_batch_size_16_train.npz\n",
      "Pruning graph...\n",
      "Original graph has 5875 nodes and 9657 edges\n",
      "New graph has 660 nodes and 615 edges\n"
     ]
    },
    {
     "name": "stderr",
     "output_type": "stream",
     "text": [
      " 20%|██        | 4/20 [00:03<00:14,  1.10it/s]"
     ]
    },
    {
     "name": "stdout",
     "output_type": "stream",
     "text": [
      "/home/edu/code/google_fast_or_slow/data/npz_all/npz/layout/nlp/random/valid/bert_multi_cased_L-12_H-768_A-12_batch_size_16_train.npz\n",
      "Pruning graph...\n",
      "Original graph has 10124 nodes and 16696 edges\n",
      "New graph has 1134 nodes and 1077 edges\n"
     ]
    },
    {
     "name": "stderr",
     "output_type": "stream",
     "text": [
      " 25%|██▌       | 5/20 [00:04<00:12,  1.19it/s]"
     ]
    },
    {
     "name": "stdout",
     "output_type": "stream",
     "text": [
      "/home/edu/code/google_fast_or_slow/data/npz_all/npz/layout/nlp/random/valid/small_bert_bert_en_uncased_L-4_H-256_A-4_batch_size_32_train.npz\n",
      "Pruning graph...\n",
      "Original graph has 4460 nodes and 7312 edges\n",
      "New graph has 502 nodes and 461 edges\n"
     ]
    },
    {
     "name": "stderr",
     "output_type": "stream",
     "text": [
      " 30%|███       | 6/20 [00:05<00:12,  1.08it/s]"
     ]
    },
    {
     "name": "stdout",
     "output_type": "stream",
     "text": [
      "/home/edu/code/google_fast_or_slow/data/npz_all/npz/layout/nlp/random/valid/albert_en_xlarge_batch_size_16_test.npz\n",
      "Pruning graph...\n",
      "Original graph has 2704 nodes and 4317 edges\n",
      "New graph has 588 nodes and 635 edges\n"
     ]
    },
    {
     "name": "stderr",
     "output_type": "stream",
     "text": [
      " 35%|███▌      | 7/20 [00:06<00:11,  1.10it/s]"
     ]
    },
    {
     "name": "stdout",
     "output_type": "stream",
     "text": [
      "/home/edu/code/google_fast_or_slow/data/npz_all/npz/layout/nlp/random/valid/small_bert_bert_en_uncased_L-10_H-768_A-12_batch_size_16_train.npz\n",
      "Pruning graph...\n",
      "Original graph has 8708 nodes and 14350 edges\n",
      "New graph has 976 nodes and 923 edges\n"
     ]
    },
    {
     "name": "stderr",
     "output_type": "stream",
     "text": [
      " 40%|████      | 8/20 [00:06<00:10,  1.18it/s]"
     ]
    },
    {
     "name": "stdout",
     "output_type": "stream",
     "text": [
      "/home/edu/code/google_fast_or_slow/data/npz_all/npz/layout/nlp/random/valid/small_bert_bert_en_uncased_L-10_H-512_A-8_batch_size_64_test.npz\n",
      "Pruning graph...\n",
      "Original graph has 1756 nodes and 2654 edges\n",
      "New graph has 345 nodes and 296 edges\n"
     ]
    },
    {
     "name": "stderr",
     "output_type": "stream",
     "text": [
      " 45%|████▌     | 9/20 [00:07<00:09,  1.20it/s]"
     ]
    },
    {
     "name": "stdout",
     "output_type": "stream",
     "text": [
      "/home/edu/code/google_fast_or_slow/data/npz_all/npz/layout/nlp/random/valid/small_bert_bert_en_uncased_L-4_H-512_A-8_batch_size_32_train.npz\n",
      "Pruning graph...\n",
      "Original graph has 4452 nodes and 7304 edges\n",
      "New graph has 502 nodes and 461 edges\n"
     ]
    },
    {
     "name": "stderr",
     "output_type": "stream",
     "text": [
      " 50%|█████     | 10/20 [00:08<00:08,  1.23it/s]"
     ]
    },
    {
     "name": "stdout",
     "output_type": "stream",
     "text": [
      "/home/edu/code/google_fast_or_slow/data/npz_all/npz/layout/nlp/random/valid/small_bert_bert_en_uncased_L-2_H-256_A-4_batch_size_32_train.npz\n",
      "Pruning graph...\n",
      "Original graph has 3044 nodes and 4966 edges\n",
      "New graph has 344 nodes and 307 edges\n"
     ]
    },
    {
     "name": "stderr",
     "output_type": "stream",
     "text": [
      " 55%|█████▌    | 11/20 [00:09<00:07,  1.20it/s]"
     ]
    },
    {
     "name": "stdout",
     "output_type": "stream",
     "text": [
      "/home/edu/code/google_fast_or_slow/data/npz_all/npz/layout/nlp/random/valid/small_bert_bert_en_uncased_L-12_H-768_A-12_batch_size_64_train.npz\n",
      "Pruning graph...\n",
      "Original graph has 10124 nodes and 16696 edges\n",
      "New graph has 1134 nodes and 1077 edges\n"
     ]
    },
    {
     "name": "stderr",
     "output_type": "stream",
     "text": [
      " 60%|██████    | 12/20 [00:09<00:06,  1.29it/s]"
     ]
    },
    {
     "name": "stdout",
     "output_type": "stream",
     "text": [
      "/home/edu/code/google_fast_or_slow/data/npz_all/npz/layout/nlp/random/valid/small_bert_bert_en_uncased_L-6_H-768_A-12_batch_size_16_test.npz\n",
      "Pruning graph...\n",
      "Original graph has 1316 nodes and 2010 edges\n",
      "New graph has 237 nodes and 200 edges\n"
     ]
    },
    {
     "name": "stderr",
     "output_type": "stream",
     "text": [
      " 65%|██████▌   | 13/20 [00:10<00:04,  1.40it/s]"
     ]
    },
    {
     "name": "stdout",
     "output_type": "stream",
     "text": [
      "/home/edu/code/google_fast_or_slow/data/npz_all/npz/layout/nlp/random/valid/small_bert_bert_en_uncased_L-10_H-768_A-12_batch_size_32_test.npz\n",
      "Pruning graph...\n",
      "Original graph has 1756 nodes and 2654 edges\n",
      "New graph has 345 nodes and 296 edges\n"
     ]
    },
    {
     "name": "stderr",
     "output_type": "stream",
     "text": [
      " 70%|███████   | 14/20 [00:11<00:04,  1.35it/s]"
     ]
    },
    {
     "name": "stdout",
     "output_type": "stream",
     "text": [
      "/home/edu/code/google_fast_or_slow/data/npz_all/npz/layout/nlp/random/valid/small_bert_bert_en_uncased_L-10_H-128_A-2_batch_size_64_train.npz\n",
      "Pruning graph...\n",
      "Original graph has 8700 nodes and 14342 edges\n",
      "New graph has 976 nodes and 923 edges\n"
     ]
    },
    {
     "name": "stderr",
     "output_type": "stream",
     "text": [
      " 75%|███████▌  | 15/20 [00:12<00:04,  1.17it/s]"
     ]
    },
    {
     "name": "stdout",
     "output_type": "stream",
     "text": [
      "/home/edu/code/google_fast_or_slow/data/npz_all/npz/layout/nlp/random/valid/talking-heads_large_batch_size_16_train.npz\n",
      "Pruning graph...\n",
      "Original graph has 21918 nodes and 36278 edges\n",
      "New graph has 2850 nodes and 2745 edges\n"
     ]
    },
    {
     "name": "stderr",
     "output_type": "stream",
     "text": [
      " 80%|████████  | 16/20 [00:13<00:03,  1.24it/s]"
     ]
    },
    {
     "name": "stdout",
     "output_type": "stream",
     "text": [
      "/home/edu/code/google_fast_or_slow/data/npz_all/npz/layout/nlp/random/valid/small_bert_bert_en_uncased_L-6_H-512_A-8_batch_size_64_test.npz\n",
      "Pruning graph...\n",
      "Original graph has 1316 nodes and 2010 edges\n",
      "New graph has 237 nodes and 200 edges\n"
     ]
    },
    {
     "name": "stderr",
     "output_type": "stream",
     "text": [
      " 85%|████████▌ | 17/20 [00:13<00:02,  1.36it/s]"
     ]
    },
    {
     "name": "stdout",
     "output_type": "stream",
     "text": [
      "/home/edu/code/google_fast_or_slow/data/npz_all/npz/layout/nlp/random/valid/small_bert_bert_en_uncased_L-10_H-256_A-4_batch_size_64_train.npz\n",
      "Pruning graph...\n",
      "Original graph has 8708 nodes and 14350 edges\n",
      "New graph has 976 nodes and 923 edges\n"
     ]
    },
    {
     "name": "stderr",
     "output_type": "stream",
     "text": [
      " 90%|█████████ | 18/20 [00:14<00:01,  1.25it/s]"
     ]
    },
    {
     "name": "stdout",
     "output_type": "stream",
     "text": [
      "/home/edu/code/google_fast_or_slow/data/npz_all/npz/layout/nlp/random/valid/bert_en_cased_L-12_H-768_A-12_batch_size_16_test.npz\n",
      "Pruning graph...\n",
      "Original graph has 1976 nodes and 2976 edges\n",
      "New graph has 399 nodes and 344 edges\n"
     ]
    },
    {
     "name": "stderr",
     "output_type": "stream",
     "text": [
      " 95%|█████████▌| 19/20 [00:15<00:00,  1.20it/s]"
     ]
    },
    {
     "name": "stdout",
     "output_type": "stream",
     "text": [
      "/home/edu/code/google_fast_or_slow/data/npz_all/npz/layout/nlp/random/valid/small_bert_bert_en_uncased_L-6_H-256_A-4_batch_size_64_train.npz\n",
      "Pruning graph...\n",
      "Original graph has 5876 nodes and 9658 edges\n",
      "New graph has 660 nodes and 615 edges\n"
     ]
    },
    {
     "name": "stderr",
     "output_type": "stream",
     "text": [
      "100%|██████████| 20/20 [00:16<00:00,  1.21it/s]\n"
     ]
    },
    {
     "name": "stdout",
     "output_type": "stream",
     "text": [
      "Loading test data...\n"
     ]
    },
    {
     "name": "stderr",
     "output_type": "stream",
     "text": [
      " 35%|███▌      | 6/17 [00:00<00:00, 59.69it/s]"
     ]
    },
    {
     "name": "stdout",
     "output_type": "stream",
     "text": [
      "/home/edu/code/google_fast_or_slow/data/npz_all/npz/layout/nlp/random/test/492c7a94d559aa4a88769142d2a68362.npz\n",
      "Pruning graph...\n",
      "Original graph has 7292 nodes and 12004 edges\n",
      "New graph has 818 nodes and 769 edges\n",
      "/home/edu/code/google_fast_or_slow/data/npz_all/npz/layout/nlp/random/test/f6c146fc5cf10be4f3accbaca9897311.npz\n",
      "Pruning graph...\n",
      "Original graph has 5868 nodes and 9650 edges\n",
      "New graph has 660 nodes and 615 edges\n",
      "/home/edu/code/google_fast_or_slow/data/npz_all/npz/layout/nlp/random/test/d15316c12eefdef1ba549eb433797f77.npz\n",
      "Pruning graph...\n",
      "Original graph has 1536 nodes and 2332 edges\n",
      "New graph has 291 nodes and 248 edges\n",
      "/home/edu/code/google_fast_or_slow/data/npz_all/npz/layout/nlp/random/test/71b79ca6db513e7979c3702c595150c2.npz\n",
      "Pruning graph...\n",
      "Original graph has 3584 nodes and 5316 edges\n",
      "New graph has 939 nodes and 848 edges\n",
      "/home/edu/code/google_fast_or_slow/data/npz_all/npz/layout/nlp/random/test/29886a50d55cfe77a9497bc906c76ce9.npz\n",
      "Pruning graph...\n",
      "Original graph has 4452 nodes and 7304 edges\n",
      "New graph has 502 nodes and 461 edges\n",
      "/home/edu/code/google_fast_or_slow/data/npz_all/npz/layout/nlp/random/test/58cc2e418c3a8a19b871e15964b534ad.npz\n",
      "Pruning graph...\n",
      "Original graph has 1536 nodes and 2332 edges\n",
      "New graph has 291 nodes and 248 edges\n",
      "/home/edu/code/google_fast_or_slow/data/npz_all/npz/layout/nlp/random/test/60880ed76de53f4d7a1b960b24f20f7d.npz\n",
      "Pruning graph...\n",
      "Original graph has 1976 nodes and 2976 edges\n",
      "New graph has 399 nodes and 344 edges\n",
      "/home/edu/code/google_fast_or_slow/data/npz_all/npz/layout/nlp/random/test/38524e2ff135ded55b5286407e7af6b7.npz\n",
      "Pruning graph...\n",
      "Original graph has 1976 nodes and 2976 edges\n",
      "New graph has 399 nodes and 344 edges\n",
      "/home/edu/code/google_fast_or_slow/data/npz_all/npz/layout/nlp/random/test/7105451001e119f65b66570d170b94a8.npz\n",
      "Pruning graph...\n",
      "Original graph has 3044 nodes and 4966 edges\n",
      "New graph has 344 nodes and 307 edges\n",
      "/home/edu/code/google_fast_or_slow/data/npz_all/npz/layout/nlp/random/test/7f6284ebe027b1e9a3850fc703858a59.npz\n",
      "Pruning graph...\n",
      "Original graph has 1976 nodes and 2976 edges\n",
      "New graph has 399 nodes and 344 edges\n",
      "/home/edu/code/google_fast_or_slow/data/npz_all/npz/layout/nlp/random/test/171b0513d8874a427ccfa46d136fbadc.npz\n",
      "Pruning graph...\n",
      "Original graph has 10124 nodes and 16696 edges\n",
      "New graph has 1134 nodes and 1077 edges\n",
      "/home/edu/code/google_fast_or_slow/data/npz_all/npz/layout/nlp/random/test/b2fdde3b72980907578648774101543e.npz\n",
      "Pruning graph...\n",
      "Original graph has 1316 nodes and 2010 edges\n",
      "New graph has 237 nodes and 200 edges\n",
      "/home/edu/code/google_fast_or_slow/data/npz_all/npz/layout/nlp/random/test/016ac66a44a906a695afd2228509046a.npz\n",
      "Pruning graph...\n",
      "Original graph has 1536 nodes and 2332 edges\n",
      "New graph has 291 nodes and 248 edges\n",
      "/home/edu/code/google_fast_or_slow/data/npz_all/npz/layout/nlp/random/test/6c1101f6231f4d1722c3b9f6d1e25026.npz\n",
      "Pruning graph...\n",
      "Original graph has 3036 nodes and 4958 edges\n",
      "New graph has 344 nodes and 307 edges\n",
      "/home/edu/code/google_fast_or_slow/data/npz_all/npz/layout/nlp/random/test/23559853d9702baaaacbb0c83fd32266.npz\n"
     ]
    },
    {
     "name": "stderr",
     "output_type": "stream",
     "text": [
      "100%|██████████| 17/17 [00:00<00:00, 57.60it/s]"
     ]
    },
    {
     "name": "stdout",
     "output_type": "stream",
     "text": [
      "Pruning graph...\n",
      "Original graph has 1096 nodes and 1688 edges\n",
      "New graph has 183 nodes and 152 edges\n",
      "/home/edu/code/google_fast_or_slow/data/npz_all/npz/layout/nlp/random/test/32531d07a084b319dce484f53a4cf3fc.npz\n",
      "Pruning graph...\n",
      "Original graph has 4453 nodes and 7305 edges\n",
      "New graph has 502 nodes and 461 edges\n",
      "/home/edu/code/google_fast_or_slow/data/npz_all/npz/layout/nlp/random/test/3a0c5517a87df8d82fd637b83298a3ba.npz\n",
      "Pruning graph...\n",
      "Original graph has 21918 nodes and 36278 edges\n",
      "New graph has 2850 nodes and 2745 edges\n"
     ]
    },
    {
     "name": "stderr",
     "output_type": "stream",
     "text": [
      "\n"
     ]
    }
   ],
   "source": [
    "dst_dir = root / f\"{collection}_pruned\" / ctype\n",
    "for split in [\"train\", \"valid\", \"test\"]:\n",
    "    print(\"Loading {} data...\".format(split))\n",
    "    split_src_dir = root / collection / ctype / split\n",
    "    split_dst_dir = dst_dir / split\n",
    "    split_dst_dir.mkdir(parents=True, exist_ok=True)\n",
    "\n",
    "    for npz_path in tqdm(list(split_src_dir.glob(\"*.npz\"))):\n",
    "        print(npz_path)\n",
    "        data = dict(np.load(str(npz_path), allow_pickle=True))\n",
    "        data = prune_graph(data)\n",
    "        if split == \"train\":\n",
    "            data = remove_dupplicated_node_configs(data)\n",
    "        np.savez(split_dst_dir / npz_path.name, **data)"
   ]
  },
  {
   "cell_type": "code",
   "execution_count": null,
   "metadata": {},
   "outputs": [],
   "source": [
    "split_src_dir"
   ]
  },
  {
   "cell_type": "code",
   "execution_count": null,
   "metadata": {},
   "outputs": [],
   "source": []
  },
  {
   "cell_type": "code",
   "execution_count": null,
   "metadata": {},
   "outputs": [],
   "source": []
  },
  {
   "cell_type": "code",
   "execution_count": 3,
   "metadata": {},
   "outputs": [],
   "source": [
    "path = \"/home/edu/code/google_fast_or_slow/data/npz_all/npz/layout/xla/default/train/ncf.2x2.fp32.npz\"\n",
    "data = np.load(path)"
   ]
  },
  {
   "cell_type": "code",
   "execution_count": 4,
   "metadata": {},
   "outputs": [
    {
     "data": {
      "text/plain": [
       "['edge_index',\n",
       " 'node_feat',\n",
       " 'node_opcode',\n",
       " 'node_config_feat',\n",
       " 'node_config_ids',\n",
       " 'node_splits',\n",
       " 'config_runtime']"
      ]
     },
     "execution_count": 4,
     "metadata": {},
     "output_type": "execute_result"
    }
   ],
   "source": [
    "list(data.keys())"
   ]
  },
  {
   "cell_type": "code",
   "execution_count": 5,
   "metadata": {},
   "outputs": [
    {
     "data": {
      "text/plain": [
       "(100040, 20, 18)"
      ]
     },
     "execution_count": 5,
     "metadata": {},
     "output_type": "execute_result"
    }
   ],
   "source": [
    "data[\"node_config_feat\"].shape"
   ]
  },
  {
   "cell_type": "code",
   "execution_count": 6,
   "metadata": {},
   "outputs": [],
   "source": [
    "in_edge_index = data[\"edge_index\"][np.isin(data[\"edge_index\"], data[\"node_config_ids\"]).any(1)]\n",
    "\n",
    "in_node_ids = np.unique(in_edge_index)"
   ]
  },
  {
   "cell_type": "code",
   "execution_count": 10,
   "metadata": {},
   "outputs": [
    {
     "data": {
      "text/plain": [
       "0"
      ]
     },
     "execution_count": 10,
     "metadata": {},
     "output_type": "execute_result"
    }
   ],
   "source": [
    "len(set(data[\"node_config_ids\"]) - set(in_node_ids))"
   ]
  },
  {
   "cell_type": "code",
   "execution_count": null,
   "metadata": {},
   "outputs": [],
   "source": [
    "100040 - 99668"
   ]
  },
  {
   "cell_type": "code",
   "execution_count": null,
   "metadata": {},
   "outputs": [],
   "source": [
    "reshaped_config_feat = data[\"node_config_feat\"].reshape(data[\"node_config_feat\"].shape[0], -1)\n",
    "print(1)\n",
    "positional_array = (np.arange(reshaped_config_feat.shape[1]) + 1) # multiply each value by its position to avoid removing permutations by accident\n",
    "reshaped_values = (reshaped_config_feat * positional_array[None, :]).sum(1)\n",
    "print(2)\n",
    "is_equal_matrix = reshaped_values[None, :] == reshaped_values[:, None] # quadratic matrix of all pairwise equalities\n",
    "print(3)\n",
    "is_equal_matrix = np.tril(is_equal_matrix, -1) # only get diagonal to avoid remove twice\n",
    "print(4)\n",
    "to_remove_ids = np.unique(np.where(is_equal_matrix)[0])\n",
    "print(5)\n",
    "print(\"Removing {} duplicated node configs\".format(to_remove_ids.shape[0]))"
   ]
  },
  {
   "cell_type": "code",
   "execution_count": null,
   "metadata": {},
   "outputs": [],
   "source": [
    "remove_dupplicated_node_configs(data)"
   ]
  },
  {
   "cell_type": "code",
   "execution_count": null,
   "metadata": {},
   "outputs": [],
   "source": [
    "(100040 ** 2) * 4 / 1e9"
   ]
  },
  {
   "cell_type": "code",
   "execution_count": null,
   "metadata": {},
   "outputs": [],
   "source": [
    "remove_dupplicated_node_configs(dict(data))"
   ]
  },
  {
   "cell_type": "code",
   "execution_count": null,
   "metadata": {},
   "outputs": [],
   "source": [
    "data[\"node_config_feat\"].shape"
   ]
  },
  {
   "cell_type": "code",
   "execution_count": null,
   "metadata": {},
   "outputs": [],
   "source": []
  },
  {
   "cell_type": "code",
   "execution_count": null,
   "metadata": {},
   "outputs": [],
   "source": []
  },
  {
   "cell_type": "code",
   "execution_count": null,
   "metadata": {},
   "outputs": [],
   "source": [
    "np.delete(x, to_remove_ids)\n"
   ]
  },
  {
   "cell_type": "code",
   "execution_count": null,
   "metadata": {},
   "outputs": [],
   "source": [
    "is_equal_matrix.sum(1)"
   ]
  },
  {
   "cell_type": "code",
   "execution_count": null,
   "metadata": {},
   "outputs": [],
   "source": [
    "x = np.array([1, 1, 2, 3, 3, 4, 7, 1, 2])\n",
    "m = x[None, :] == x[:, None]\n",
    "# remove 1,4, 7, 8"
   ]
  },
  {
   "cell_type": "code",
   "execution_count": null,
   "metadata": {},
   "outputs": [],
   "source": [
    "m"
   ]
  },
  {
   "cell_type": "code",
   "execution_count": null,
   "metadata": {},
   "outputs": [],
   "source": [
    "np.tril(m, -1)"
   ]
  },
  {
   "cell_type": "code",
   "execution_count": null,
   "metadata": {},
   "outputs": [],
   "source": [
    "\n",
    "m"
   ]
  },
  {
   "cell_type": "code",
   "execution_count": null,
   "metadata": {},
   "outputs": [],
   "source": [
    "to_remove_ids = np.unique(np.where(m)[0])"
   ]
  },
  {
   "cell_type": "code",
   "execution_count": null,
   "metadata": {},
   "outputs": [],
   "source": [
    "np.delete(x, to_remove_ids)"
   ]
  },
  {
   "cell_type": "code",
   "execution_count": null,
   "metadata": {},
   "outputs": [],
   "source": [
    "(5304 ** 2) / 1e9"
   ]
  },
  {
   "cell_type": "code",
   "execution_count": null,
   "metadata": {},
   "outputs": [],
   "source": [
    "new_data = prune_graph(data)"
   ]
  },
  {
   "cell_type": "code",
   "execution_count": null,
   "metadata": {},
   "outputs": [],
   "source": [
    "data[\"edge_index\"].shape#[3, :]"
   ]
  },
  {
   "cell_type": "code",
   "execution_count": null,
   "metadata": {},
   "outputs": [],
   "source": []
  },
  {
   "cell_type": "code",
   "execution_count": null,
   "metadata": {},
   "outputs": [],
   "source": []
  },
  {
   "cell_type": "code",
   "execution_count": null,
   "metadata": {},
   "outputs": [],
   "source": []
  },
  {
   "cell_type": "code",
   "execution_count": null,
   "metadata": {},
   "outputs": [],
   "source": [
    "\n",
    "in_node_feats.shape"
   ]
  },
  {
   "cell_type": "code",
   "execution_count": null,
   "metadata": {},
   "outputs": [],
   "source": []
  },
  {
   "cell_type": "code",
   "execution_count": null,
   "metadata": {},
   "outputs": [],
   "source": []
  },
  {
   "cell_type": "code",
   "execution_count": null,
   "metadata": {},
   "outputs": [],
   "source": []
  },
  {
   "cell_type": "code",
   "execution_count": null,
   "metadata": {},
   "outputs": [],
   "source": [
    "data[\"node_feat\"].shape"
   ]
  },
  {
   "cell_type": "code",
   "execution_count": null,
   "metadata": {},
   "outputs": [],
   "source": [
    "np.unique(data[\"node_config_feat\"][:, :, 98], return_counts=True)"
   ]
  },
  {
   "cell_type": "code",
   "execution_count": null,
   "metadata": {},
   "outputs": [],
   "source": [
    "{k: data[k].shape for k in data.keys()}"
   ]
  },
  {
   "cell_type": "code",
   "execution_count": null,
   "metadata": {},
   "outputs": [],
   "source": [
    "np.unique((data[\"node_config_feat\"].sum(2) != -18).sum(1), return_counts=True)"
   ]
  },
  {
   "cell_type": "code",
   "execution_count": null,
   "metadata": {},
   "outputs": [],
   "source": [
    "sns.histplot((data[\"node_config_feat\"].sum(2) != -18).sum(1))"
   ]
  },
  {
   "cell_type": "code",
   "execution_count": null,
   "metadata": {},
   "outputs": [],
   "source": [
    "((data[\"node_config_feat\"][0] != data[\"node_config_feat\"][3]).sum(1) > 0).sum()"
   ]
  },
  {
   "cell_type": "code",
   "execution_count": null,
   "metadata": {},
   "outputs": [],
   "source": [
    "100040 * 100040 * 1 / 1e9"
   ]
  },
  {
   "cell_type": "code",
   "execution_count": null,
   "metadata": {},
   "outputs": [],
   "source": [
    "from tqdm.auto import tqdm"
   ]
  },
  {
   "cell_type": "code",
   "execution_count": null,
   "metadata": {},
   "outputs": [],
   "source": [
    "data[\"node_config_feat\"][i:i+1].shape"
   ]
  },
  {
   "cell_type": "code",
   "execution_count": null,
   "metadata": {},
   "outputs": [],
   "source": [
    "((data[\"node_config_feat\"][i:i+1] != data[\"node_config_feat\"]).sum(2) > 0).sum(1)"
   ]
  },
  {
   "cell_type": "code",
   "execution_count": null,
   "metadata": {},
   "outputs": [],
   "source": [
    "max_size = 100\n",
    "bz = 100\n",
    "result = np.zeros((max_size, 100040), dtype=np.uint8)\n",
    "for i in tqdm(range(0, max_size, bz)):\n",
    "    result[i:i+bz] = ((data[\"node_config_feat\"][i:i+bz, None] != data[\"node_config_feat\"][None, ...]).sum(-1) > 0).sum(-1)"
   ]
  },
  {
   "cell_type": "code",
   "execution_count": null,
   "metadata": {},
   "outputs": [],
   "source": [
    "result.max(1)"
   ]
  },
  {
   "cell_type": "code",
   "execution_count": null,
   "metadata": {},
   "outputs": [],
   "source": [
    "(result == 1).sum(1)"
   ]
  },
  {
   "cell_type": "code",
   "execution_count": null,
   "metadata": {},
   "outputs": [],
   "source": [
    "(result == 0).sum(1)"
   ]
  },
  {
   "cell_type": "code",
   "execution_count": null,
   "metadata": {},
   "outputs": [],
   "source": [
    "result.min(1)"
   ]
  },
  {
   "cell_type": "code",
   "execution_count": null,
   "metadata": {},
   "outputs": [],
   "source": [
    "np.median(result, 1)"
   ]
  },
  {
   "cell_type": "code",
   "execution_count": null,
   "metadata": {},
   "outputs": [],
   "source": [
    "np.percentile(result, 0.1, 1)"
   ]
  },
  {
   "cell_type": "code",
   "execution_count": null,
   "metadata": {},
   "outputs": [],
   "source": [
    "(data[\"node_config_feat\"][0] != data[\"node_config_feat\"][0][1]).sum()"
   ]
  },
  {
   "cell_type": "code",
   "execution_count": null,
   "metadata": {},
   "outputs": [],
   "source": [
    "np.unique(data[\"node_feat\"][:, 22])"
   ]
  },
  {
   "cell_type": "code",
   "execution_count": 1,
   "metadata": {},
   "outputs": [],
   "source": [
    "import numpy as np\n",
    "import torch"
   ]
  },
  {
   "cell_type": "code",
   "execution_count": 12,
   "metadata": {},
   "outputs": [
    {
     "data": {
      "text/plain": [
       "tensor([[ 0.,  1.,  2.],\n",
       "        [ 3.,  4.,  5.],\n",
       "        [ 6.,  7.,  8.],\n",
       "        [ 9., 10., 11.]])"
      ]
     },
     "execution_count": 12,
     "metadata": {},
     "output_type": "execute_result"
    }
   ],
   "source": [
    "x = torch.arange(12).reshape(4, 3).float()\n",
    "x"
   ]
  },
  {
   "cell_type": "code",
   "execution_count": 13,
   "metadata": {},
   "outputs": [
    {
     "data": {
      "text/plain": [
       "tensor([[ 4.5000,  3.8730,  0.0000,  9.0000],\n",
       "        [ 5.5000,  3.8730,  1.0000, 10.0000],\n",
       "        [ 6.5000,  3.8730,  2.0000, 11.0000]])"
      ]
     },
     "execution_count": 13,
     "metadata": {},
     "output_type": "execute_result"
    }
   ],
   "source": [
    "torch.stack([x.mean(0), x.std(0), x.min(0).values, x.max(0).values], 1)"
   ]
  },
  {
   "cell_type": "code",
   "execution_count": 18,
   "metadata": {},
   "outputs": [
    {
     "data": {
      "text/plain": [
       "tensor([[[True, True, True, True, True],\n",
       "         [True, True, True, True, True]],\n",
       "\n",
       "        [[True, True, True, True, True],\n",
       "         [True, True, True, True, True]]])"
      ]
     },
     "execution_count": 18,
     "metadata": {},
     "output_type": "execute_result"
    }
   ],
   "source": [
    "torch.arange(20).reshape(2, 2, 5).swapaxes(1, 2).swapaxes(1, 2) == torch.arange(20).reshape(2, 2, 5)"
   ]
  }
 ],
 "metadata": {
  "kernelspec": {
   "display_name": "kaggle_tpu",
   "language": "python",
   "name": "python3"
  },
  "language_info": {
   "codemirror_mode": {
    "name": "ipython",
    "version": 3
   },
   "file_extension": ".py",
   "mimetype": "text/x-python",
   "name": "python",
   "nbconvert_exporter": "python",
   "pygments_lexer": "ipython3",
   "version": "3.10.13"
  }
 },
 "nbformat": 4,
 "nbformat_minor": 2
}
